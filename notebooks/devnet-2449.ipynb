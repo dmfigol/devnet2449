{
 "cells": [
  {
   "cell_type": "markdown",
   "metadata": {},
   "source": [
    "# DEVNET-2449 Python for Enterprise Network Elements\n",
    "## Automation exploration with Python"
   ]
  },
  {
   "cell_type": "markdown",
   "metadata": {},
   "source": [
    "## Jupyter Notebooks\n",
    "The *Jupyter Notebooks* in this workbench class are interactive learning environments. We are using them to learn about network device programability in combination with virtual Cisco network devices.\n",
    "\n",
    "Notebooks are **interactive**, the code and text in each notebook can be changed on the fly and the result of those changes can be seen immediately within the notebook itself.\n",
    "\n",
    "Notebooks are organized in *cells*, each displayed *rectangle* or *cell* is basically either Markdown text (like this cell) or Python code. Python code can be *executed* by either clicking **Run Cell, select below** in the 'Cell' menu in the menu bar or the key combination 'Shift-Enter'.\n",
    "\n",
    "<p>**IMPORTANT for Execution. PLEASE READ**. At its simplest, this is a playbook and execution is top-down. Code cells will look something like `In [#]:` (with '#' being a number). That's where you want to single-click. To execute the code, simply hit Shift+Enter.</p>\n",
    "\n",
    "<p>The code should execute, and move onto the next cell. The number in `In [#]:` will change and if there is some return value (as opposed to an explicit `print()` statement) it will appear in an `Out [#]:` cell. The numbers will change after each cell execution.</p>\n",
    "\n",
    "<p>It's easy to \"execute\" an entire notebook, task-by-task, by continuing to execute Shift+Return. Also, if you ever see `In [*]:` in your code cells (note the asterisk '\\*'), it just means things are executing, and you are probably waiting on data to come back.</p>\n",
    "\n",
    "<p>So depending on what you're doing, some patience might be required.</p>\n",
    "\n",
    "</div>\n",
    "\n",
    "\n",
    "## Environment\n",
    "The workbench environment is running 100% locally on provided Macbooks. We use [Vagrant](https://www.vagrantup.com/) to run two [CSR 1000V virtual routers](http://www.cisco.com/c/en/us/products/routers/cloud-services-router-1000v-series/index.html) running IOS XE 16.6 and we use [Docker container](https://www.docker.com/) to run [Jupyter](http://jupyter.org/) interactive notebooks (like the document you are currently looking at).\n",
    "\n",
    "The Python environment in the notebooks communicate with the routers via a host-only *internal* network on the MacBook Pro. The MacBook has its own IP address on this host-only network: `172.20.20.1`. The container can access the routers on their own IP addresses, `172.20.20.10` and `172.20.20.20` respectively. The following diagram shows a high level overview of the environment:\n",
    "\n",
    "![Topology](images/topology.png)\n",
    "\n",
    "We can access the CLI of the CSR1000v using a terminal (`Terminal.app`) and, while in the Vagrant directory, typing `vagrant ssh R1` or `vagrant ssh R2`. Because a public key has been installed into the router(s), we get a privileged shell / CLI without being prompted for a password.\n",
    "\n",
    "There are some static routes configured as well as OSPF between routers."
   ]
  },
  {
   "cell_type": "code",
   "execution_count": 1,
   "metadata": {
    "collapsed": true
   },
   "outputs": [],
   "source": [
    "# Let's first define connection parameters\n",
    "HOST = '172.20.20.10'\n",
    "USERNAME = 'vagrant'\n",
    "PASSWORD = 'vagrant'\n",
    "ENABLE_PASSWORD = 'cisco'"
   ]
  },
  {
   "cell_type": "markdown",
   "metadata": {},
   "source": [
    "### Introducing Netmiko\n",
    "Netmiko is Python module written by Kirk Byers which allows to interact with a network device via SSH. It automatically handles prompts and provides simple API for the most common operations."
   ]
  },
  {
   "cell_type": "code",
   "execution_count": 2,
   "metadata": {
    "scrolled": true
   },
   "outputs": [
    {
     "ename": "NetMikoTimeoutException",
     "evalue": "Connection to device timed-out: cisco_ios 172.20.20.10:22",
     "output_type": "error",
     "traceback": [
      "\u001b[0;31m---------------------------------------------------------------------------\u001b[0m",
      "\u001b[0;31mtimeout\u001b[0m                                   Traceback (most recent call last)",
      "\u001b[0;32m/usr/lib/python3.6/site-packages/netmiko/base_connection.py\u001b[0m in \u001b[0;36mestablish_connection\u001b[0;34m(self, width, height)\u001b[0m\n\u001b[1;32m    501\u001b[0m             \u001b[0;32mtry\u001b[0m\u001b[0;34m:\u001b[0m\u001b[0;34m\u001b[0m\u001b[0m\n\u001b[0;32m--> 502\u001b[0;31m                 \u001b[0mself\u001b[0m\u001b[0;34m.\u001b[0m\u001b[0mremote_conn_pre\u001b[0m\u001b[0;34m.\u001b[0m\u001b[0mconnect\u001b[0m\u001b[0;34m(\u001b[0m\u001b[0;34m**\u001b[0m\u001b[0mssh_connect_params\u001b[0m\u001b[0;34m)\u001b[0m\u001b[0;34m\u001b[0m\u001b[0m\n\u001b[0m\u001b[1;32m    503\u001b[0m             \u001b[0;32mexcept\u001b[0m \u001b[0msocket\u001b[0m\u001b[0;34m.\u001b[0m\u001b[0merror\u001b[0m\u001b[0;34m:\u001b[0m\u001b[0;34m\u001b[0m\u001b[0m\n",
      "\u001b[0;32m/usr/lib/python3.6/site-packages/paramiko/client.py\u001b[0m in \u001b[0;36mconnect\u001b[0;34m(self, hostname, port, username, password, pkey, key_filename, timeout, allow_agent, look_for_keys, compress, sock, gss_auth, gss_kex, gss_deleg_creds, gss_host, banner_timeout, auth_timeout)\u001b[0m\n\u001b[1;32m    309\u001b[0m                             \u001b[0;32mpass\u001b[0m\u001b[0;34m\u001b[0m\u001b[0m\n\u001b[0;32m--> 310\u001b[0;31m                     \u001b[0mretry_on_signal\u001b[0m\u001b[0;34m(\u001b[0m\u001b[0;32mlambda\u001b[0m\u001b[0;34m:\u001b[0m \u001b[0msock\u001b[0m\u001b[0;34m.\u001b[0m\u001b[0mconnect\u001b[0m\u001b[0;34m(\u001b[0m\u001b[0maddr\u001b[0m\u001b[0;34m)\u001b[0m\u001b[0;34m)\u001b[0m\u001b[0;34m\u001b[0m\u001b[0m\n\u001b[0m\u001b[1;32m    311\u001b[0m                     \u001b[0;31m# Break out of the loop on success\u001b[0m\u001b[0;34m\u001b[0m\u001b[0;34m\u001b[0m\u001b[0m\n",
      "\u001b[0;32m/usr/lib/python3.6/site-packages/paramiko/util.py\u001b[0m in \u001b[0;36mretry_on_signal\u001b[0;34m(function)\u001b[0m\n\u001b[1;32m    275\u001b[0m         \u001b[0;32mtry\u001b[0m\u001b[0;34m:\u001b[0m\u001b[0;34m\u001b[0m\u001b[0m\n\u001b[0;32m--> 276\u001b[0;31m             \u001b[0;32mreturn\u001b[0m \u001b[0mfunction\u001b[0m\u001b[0;34m(\u001b[0m\u001b[0;34m)\u001b[0m\u001b[0;34m\u001b[0m\u001b[0m\n\u001b[0m\u001b[1;32m    277\u001b[0m         \u001b[0;32mexcept\u001b[0m \u001b[0mEnvironmentError\u001b[0m \u001b[0;32mas\u001b[0m \u001b[0me\u001b[0m\u001b[0;34m:\u001b[0m\u001b[0;34m\u001b[0m\u001b[0m\n",
      "\u001b[0;32m/usr/lib/python3.6/site-packages/paramiko/client.py\u001b[0m in \u001b[0;36m<lambda>\u001b[0;34m()\u001b[0m\n\u001b[1;32m    309\u001b[0m                             \u001b[0;32mpass\u001b[0m\u001b[0;34m\u001b[0m\u001b[0m\n\u001b[0;32m--> 310\u001b[0;31m                     \u001b[0mretry_on_signal\u001b[0m\u001b[0;34m(\u001b[0m\u001b[0;32mlambda\u001b[0m\u001b[0;34m:\u001b[0m \u001b[0msock\u001b[0m\u001b[0;34m.\u001b[0m\u001b[0mconnect\u001b[0m\u001b[0;34m(\u001b[0m\u001b[0maddr\u001b[0m\u001b[0;34m)\u001b[0m\u001b[0;34m)\u001b[0m\u001b[0;34m\u001b[0m\u001b[0m\n\u001b[0m\u001b[1;32m    311\u001b[0m                     \u001b[0;31m# Break out of the loop on success\u001b[0m\u001b[0;34m\u001b[0m\u001b[0;34m\u001b[0m\u001b[0m\n",
      "\u001b[0;31mtimeout\u001b[0m: timed out",
      "\nDuring handling of the above exception, another exception occurred:\n",
      "\u001b[0;31mNetMikoTimeoutException\u001b[0m                   Traceback (most recent call last)",
      "\u001b[0;32m<ipython-input-2-5b22480f80c5>\u001b[0m in \u001b[0;36m<module>\u001b[0;34m()\u001b[0m\n\u001b[1;32m     40\u001b[0m              \"cisco_ios_show_ip_int_brief.template\"]\n\u001b[1;32m     41\u001b[0m \u001b[0;34m\u001b[0m\u001b[0m\n\u001b[0;32m---> 42\u001b[0;31m \u001b[0moutputs\u001b[0m \u001b[0;34m=\u001b[0m \u001b[0mget_output\u001b[0m\u001b[0;34m(\u001b[0m\u001b[0mcommand_list\u001b[0m\u001b[0;34m)\u001b[0m\u001b[0;34m\u001b[0m\u001b[0m\n\u001b[0m",
      "\u001b[0;32m<ipython-input-2-5b22480f80c5>\u001b[0m in \u001b[0;36mget_output\u001b[0;34m(cli_command_list)\u001b[0m\n\u001b[1;32m     23\u001b[0m        } \n\u001b[1;32m     24\u001b[0m     \u001b[0;31m# Connecting via NETMIKO SSH using defined parameters\u001b[0m\u001b[0;34m\u001b[0m\u001b[0;34m\u001b[0m\u001b[0m\n\u001b[0;32m---> 25\u001b[0;31m     \u001b[0mdevice_connection\u001b[0m \u001b[0;34m=\u001b[0m \u001b[0mConnectHandler\u001b[0m\u001b[0;34m(\u001b[0m\u001b[0;34m**\u001b[0m\u001b[0mdevice_parameters\u001b[0m\u001b[0;34m)\u001b[0m\u001b[0;34m\u001b[0m\u001b[0m\n\u001b[0m\u001b[1;32m     26\u001b[0m     \u001b[0mdevice_connection\u001b[0m\u001b[0;34m.\u001b[0m\u001b[0mfind_prompt\u001b[0m\u001b[0;34m(\u001b[0m\u001b[0;34m)\u001b[0m\u001b[0;34m\u001b[0m\u001b[0m\n\u001b[1;32m     27\u001b[0m     \u001b[0;32mfor\u001b[0m \u001b[0mcli_command\u001b[0m \u001b[0;32min\u001b[0m \u001b[0mcli_command_list\u001b[0m\u001b[0;34m:\u001b[0m\u001b[0;34m\u001b[0m\u001b[0m\n",
      "\u001b[0;32m/usr/lib/python3.6/site-packages/netmiko/ssh_dispatcher.py\u001b[0m in \u001b[0;36mConnectHandler\u001b[0;34m(*args, **kwargs)\u001b[0m\n\u001b[1;32m    122\u001b[0m                          'currently supported platforms are: {0}'.format(platforms_str))\n\u001b[1;32m    123\u001b[0m     \u001b[0mConnectionClass\u001b[0m \u001b[0;34m=\u001b[0m \u001b[0mssh_dispatcher\u001b[0m\u001b[0;34m(\u001b[0m\u001b[0mkwargs\u001b[0m\u001b[0;34m[\u001b[0m\u001b[0;34m'device_type'\u001b[0m\u001b[0;34m]\u001b[0m\u001b[0;34m)\u001b[0m\u001b[0;34m\u001b[0m\u001b[0m\n\u001b[0;32m--> 124\u001b[0;31m     \u001b[0;32mreturn\u001b[0m \u001b[0mConnectionClass\u001b[0m\u001b[0;34m(\u001b[0m\u001b[0;34m*\u001b[0m\u001b[0margs\u001b[0m\u001b[0;34m,\u001b[0m \u001b[0;34m**\u001b[0m\u001b[0mkwargs\u001b[0m\u001b[0;34m)\u001b[0m\u001b[0;34m\u001b[0m\u001b[0m\n\u001b[0m\u001b[1;32m    125\u001b[0m \u001b[0;34m\u001b[0m\u001b[0m\n\u001b[1;32m    126\u001b[0m \u001b[0;34m\u001b[0m\u001b[0m\n",
      "\u001b[0;32m/usr/lib/python3.6/site-packages/netmiko/base_connection.py\u001b[0m in \u001b[0;36m__init__\u001b[0;34m(self, ip, host, username, password, secret, port, device_type, verbose, global_delay_factor, use_keys, key_file, allow_agent, ssh_strict, system_host_keys, alt_host_keys, alt_key_file, ssh_config_file, timeout, session_timeout, keepalive)\u001b[0m\n\u001b[1;32m    148\u001b[0m \u001b[0;34m\u001b[0m\u001b[0m\n\u001b[1;32m    149\u001b[0m             \u001b[0mself\u001b[0m\u001b[0;34m.\u001b[0m\u001b[0m_modify_connection_params\u001b[0m\u001b[0;34m(\u001b[0m\u001b[0;34m)\u001b[0m\u001b[0;34m\u001b[0m\u001b[0m\n\u001b[0;32m--> 150\u001b[0;31m             \u001b[0mself\u001b[0m\u001b[0;34m.\u001b[0m\u001b[0mestablish_connection\u001b[0m\u001b[0;34m(\u001b[0m\u001b[0;34m)\u001b[0m\u001b[0;34m\u001b[0m\u001b[0m\n\u001b[0m\u001b[1;32m    151\u001b[0m             \u001b[0mself\u001b[0m\u001b[0;34m.\u001b[0m\u001b[0msession_preparation\u001b[0m\u001b[0;34m(\u001b[0m\u001b[0;34m)\u001b[0m\u001b[0;34m\u001b[0m\u001b[0m\n\u001b[1;32m    152\u001b[0m \u001b[0;34m\u001b[0m\u001b[0m\n",
      "\u001b[0;32m/usr/lib/python3.6/site-packages/netmiko/base_connection.py\u001b[0m in \u001b[0;36mestablish_connection\u001b[0;34m(self, width, height)\u001b[0m\n\u001b[1;32m    504\u001b[0m                 msg = \"Connection to device timed-out: {device_type} {ip}:{port}\".format(\n\u001b[1;32m    505\u001b[0m                     device_type=self.device_type, ip=self.host, port=self.port)\n\u001b[0;32m--> 506\u001b[0;31m                 \u001b[0;32mraise\u001b[0m \u001b[0mNetMikoTimeoutException\u001b[0m\u001b[0;34m(\u001b[0m\u001b[0mmsg\u001b[0m\u001b[0;34m)\u001b[0m\u001b[0;34m\u001b[0m\u001b[0m\n\u001b[0m\u001b[1;32m    507\u001b[0m             \u001b[0;32mexcept\u001b[0m \u001b[0mparamiko\u001b[0m\u001b[0;34m.\u001b[0m\u001b[0mssh_exception\u001b[0m\u001b[0;34m.\u001b[0m\u001b[0mAuthenticationException\u001b[0m \u001b[0;32mas\u001b[0m \u001b[0mauth_err\u001b[0m\u001b[0;34m:\u001b[0m\u001b[0;34m\u001b[0m\u001b[0m\n\u001b[1;32m    508\u001b[0m                 msg = \"Authentication failure: unable to connect {device_type} {ip}:{port}\".format(\n",
      "\u001b[0;31mNetMikoTimeoutException\u001b[0m: Connection to device timed-out: cisco_ios 172.20.20.10:22"
     ]
    }
   ],
   "source": [
    "from netmiko import ConnectHandler\n",
    "from pprint import pprint\n",
    "\n",
    "def get_output(cli_command_list):\n",
    "    \"\"\"Gets output from CLI command list executed the device\n",
    "    \n",
    "    This function connects to the device via netmiko module, gets outputs from all commands and closes SSH\n",
    "    session.\n",
    "    \n",
    "    Args:\n",
    "        cli_command: list string, CLI command to execute\n",
    "        \n",
    "    Returns:\n",
    "        list of outputs from executing each CLI command\n",
    "    \"\"\"\n",
    "    result = []\n",
    "    device_parameters = {\n",
    "       'device_type': 'cisco_ios',\n",
    "       'ip': HOST,\n",
    "       'username': USERNAME,\n",
    "       'password': PASSWORD,\n",
    "       'secret': ENABLE_PASSWORD\n",
    "       } \n",
    "    # Connecting via NETMIKO SSH using defined parameters\n",
    "    device_connection = ConnectHandler(**device_parameters)\n",
    "    device_connection.find_prompt()\n",
    "    for cli_command in cli_command_list:\n",
    "        cli_output = device_connection.send_command(cli_command)\n",
    "        print('='*40)\n",
    "        print(\"Output from {}\".format(cli_command))\n",
    "        print('='*40)\n",
    "        print(cli_output)\n",
    "        result.append(cli_output)\n",
    "    device_connection.disconnect()\n",
    "    return result\n",
    "\n",
    "command_list = [\"show version\", \"show inventory\", \"show ip int brief\"]\n",
    "templates = [\"cisco_ios_show_version.template\",\n",
    "             \"cisco_ios_show_inventory.template\",\n",
    "             \"cisco_ios_show_ip_int_brief.template\"]\n",
    "\n",
    "outputs = get_output(command_list)\n"
   ]
  },
  {
   "cell_type": "markdown",
   "metadata": {},
   "source": [
    "We can now try parsing the data using regular expressions or use TextFSM module, which also uses regular expression templates"
   ]
  },
  {
   "cell_type": "code",
   "execution_count": null,
   "metadata": {
    "collapsed": true
   },
   "outputs": [],
   "source": [
    "import os\n",
    "import textfsm\n",
    "\n",
    "\n",
    "def parse_cli_outputs(cli_outputs, templates, command_list, show_template=False):\n",
    "    \"\"\"Parses CLI outputs using TextFSM templates\n",
    "    \n",
    "    Args:\n",
    "        cli_outputs: list of strings containing each CLI output\n",
    "        templates: list of strings - file names of templates which are stored in templates/ directory\n",
    "        command_list: list of strings - CLI commands\n",
    "        show_template: boolean - if template should be printed\n",
    "    \n",
    "    Returns:\n",
    "        dictionary with parsed results\n",
    "    \"\"\"\n",
    "    parsed_results = {}\n",
    "    for i, template in enumerate(templates):\n",
    "        with open(os.path.join('templates/', template)) as f:\n",
    "            fsm_template = textfsm.TextFSM(f)\n",
    "            if show_template:\n",
    "                print(\"{delim}\\nTextFSM template:\\n{delim}\\n{template}\\n{delim}\".format(\n",
    "                    template=fsm_template, delim='='*40))\n",
    "            fsm_result_lists = fsm_template.ParseText(cli_outputs[i])\n",
    "            parsed_command_output = []\n",
    "            for fsm_result_list in fsm_result_lists:\n",
    "                # converting list to dictionary, fsm_template.header contains variable names\n",
    "                fsm_result = {key:value for key, value in zip(fsm_template.header, fsm_result_list)}\n",
    "                parsed_command_output.append(fsm_result)\n",
    "            key = command_list[i]\n",
    "            parsed_results[key] = parsed_command_output\n",
    "    return parsed_results\n",
    "with open(os.path.join('templates/', 'cisco_ios_show_inventory.template')) as f:\n",
    "    print(\"{delim}\\nshow inventory textfsm template:\\n{delim}\\n{template}\\n{delim}\".format(\n",
    "                    template=f.read(), delim='='*40))\n",
    "print(\"Parsed results:\")\n",
    "parsed_results_r1 = parse_cli_outputs(outputs, templates, command_list)\n",
    "pprint(parsed_results_r1)\n",
    "        "
   ]
  },
  {
   "cell_type": "markdown",
   "metadata": {
    "collapsed": true
   },
   "source": [
    "Let's say we would like to find the hostname of the device having a particular serial number part.  \n",
    "Because we have outputs only from one device, we will cheat a little and will create a copy of the outputs and change some values"
   ]
  },
  {
   "cell_type": "code",
   "execution_count": null,
   "metadata": {
    "collapsed": true
   },
   "outputs": [],
   "source": [
    "from copy import deepcopy\n",
    "parsed_results_r2 = deepcopy(parsed_results_r1)\n",
    "parsed_results_r2['show version'][0]['hostname'] = \"R2\"\n",
    "parsed_results_r2['show version'][0]['uptime'] = \"25 minutes\"\n",
    "parsed_results_r2['show ip int brief'][0]['ip address'] = \"10.2.3.4\"\n",
    "parsed_results_r2['show ip int brief'][0]['l2_link_status'] = \"down\"\n",
    "parsed_results_r2['show inventory'][0]['serial_number'] = \"0C8B4CC6AB73\"\n",
    "\n",
    "parsed_results = [parsed_results_r1, parsed_results_r2]\n"
   ]
  },
  {
   "cell_type": "code",
   "execution_count": null,
   "metadata": {
    "collapsed": true
   },
   "outputs": [],
   "source": [
    "SERIAL_NUMBER = \"0C8B4CC6AB73\"\n",
    "#SERIAL_NUMBER = \"1231234545\"\n",
    "def find_serial_number(parsed_results, serial_number):\n",
    "    \"\"\"Looks for a serial number and returns the hostname of the device having this s/n\n",
    "    \n",
    "    Args:\n",
    "        parsed_results: list of parsed results from parse_cli_outputs function\n",
    "        serial_number: string, serial number we are looking for\n",
    "        \n",
    "    Returns:\n",
    "        string - hostname of the device having this serial number\n",
    "    \"\"\"\n",
    "    for parsed_result in parsed_results:\n",
    "        for submodule in parsed_result[\"show inventory\"]:\n",
    "            if submodule['serial_number'] == serial_number:\n",
    "                hostname = parsed_result['show version'][0]['hostname'] \n",
    "                pid_description = submodule['description']\n",
    "                return (hostname, pid_description)\n",
    "    \n",
    "match = find_serial_number(parsed_results, SERIAL_NUMBER)\n",
    "if match:\n",
    "    hostname, pid_description = match\n",
    "    print(\"Device with hostname {} has part {} with S/N: {}\".format(hostname, pid_description, SERIAL_NUMBER))\n",
    "else:\n",
    "    print(\"Sorry, this S/N has not been found\")\n",
    "\n"
   ]
  },
  {
   "cell_type": "markdown",
   "metadata": {},
   "source": [
    "Let's take a little bit more complicated CLI output, for example \"show ip route\""
   ]
  },
  {
   "cell_type": "code",
   "execution_count": null,
   "metadata": {
    "collapsed": true
   },
   "outputs": [],
   "source": [
    "command_list = [\"show ip route\"]\n",
    "templates = [\"cisco_ios_show_ip_route.template\"]\n",
    "\n",
    "outputs = get_output(command_list)"
   ]
  },
  {
   "cell_type": "markdown",
   "metadata": {},
   "source": [
    "It is still possible to parse this output using regular expressions, however they tend to become complex and unreadable:"
   ]
  },
  {
   "cell_type": "code",
   "execution_count": null,
   "metadata": {
    "collapsed": true
   },
   "outputs": [],
   "source": [
    "parsed_results = parse_cli_outputs(outputs, templates, command_list, show_template=True)\n",
    "pprint(parsed_results)"
   ]
  },
  {
   "cell_type": "markdown",
   "metadata": {
    "collapsed": true
   },
   "source": [
    "### Introducing NETCONF/YANG\n",
    "Let's take a look how we can retrieve this information using NETCONF/YANG:"
   ]
  },
  {
   "cell_type": "code",
   "execution_count": null,
   "metadata": {
    "collapsed": true
   },
   "outputs": [],
   "source": [
    "import ncclient.manager\n",
    "import xml.dom.minidom\n",
    "from ncclient.operations import TimeoutExpiredError\n",
    "\n",
    "nckwargs = {\n",
    "    'host': HOST,\n",
    "    'username': USERNAME,\n",
    "    'password': PASSWORD,\n",
    "    'device_params': {'name':\"csr\"}\n",
    "    }\n",
    "\n",
    "m = ncclient.manager.connect(**nckwargs) \n",
    "\n",
    "def prettify_xml(xml_string):\n",
    "    xmlDom = xml.dom.minidom.parseString(str(xml_string))\n",
    "    return xmlDom.toprettyxml(indent=\" \")\n"
   ]
  },
  {
   "cell_type": "code",
   "execution_count": null,
   "metadata": {
    "collapsed": true
   },
   "outputs": [],
   "source": [
    "route_filter = '''\n",
    "  <routing-state xmlns=\"urn:ietf:params:xml:ns:yang:ietf-routing\">\n",
    "    <routing-instance>\n",
    "      <ribs>\n",
    "        <rib>\n",
    "          <name>ipv4-default</name>\n",
    "          <address-family xmlns:v4ur=\"urn:ietf:params:xml:ns:yang:ietf-ipv4-unicast-routing\">v4ur:ipv4-unicast</address-family>\n",
    "          <default-rib>true</default-rib>\n",
    "          <routes/>\n",
    "        </rib>\n",
    "      </ribs>\n",
    "    </routing-instance>\n",
    "  </routing-state>\n",
    "  '''\n",
    "\n",
    "try:\n",
    "    xml_result = m.get(filter=('subtree', route_filter))\n",
    "    print(prettify_xml(xml_result))\n",
    "except TimeoutExpiredError as e:\n",
    "    print(\"Operation timeout!\")\n",
    "except Exception as e:\n",
    "    print(e)"
   ]
  },
  {
   "cell_type": "markdown",
   "metadata": {},
   "source": [
    "Now that is a lot of information to look through, maybe you are only interested in a few pieces of information per route. To filter XML we can use XPATH, for example:"
   ]
  },
  {
   "cell_type": "code",
   "execution_count": null,
   "metadata": {
    "collapsed": true
   },
   "outputs": [],
   "source": [
    "import pprint\n",
    "ns = 'urn:ietf:params:xml:ns:yang:ietf-routing'\n",
    "nsmap = dict(rt=ns)\n",
    "route_table=[]\n",
    "routes = xml_result.data.findall(\".//{%s}route\" % ns)\n",
    "for i, route in enumerate(routes):\n",
    "    dest = route.xpath('./rt:destination-prefix/text()', namespaces=nsmap)\n",
    "    hop = route.xpath('./rt:next-hop/rt:next-hop-address/text()', namespaces=nsmap)\n",
    "    intfc = route.xpath('./rt:next-hop/rt:outgoing-interface/text()', namespaces=nsmap)\n",
    "    prot = route.xpath('./rt:source-protocol/text()', namespaces=nsmap)\n",
    "    if len(hop) > 0:\n",
    "        entry = {'hop':hop[0]}\n",
    "    if len(intfc) > 0:\n",
    "        entry = {'intfc':intfc[0]}  \n",
    "    entry.update({'dest':dest[0], 'prot':prot[0]}) \n",
    "    route_table.append(entry)\n",
    "pp = pprint.PrettyPrinter(indent=2)\n",
    "pp.pprint(route_table)  "
   ]
  },
  {
   "cell_type": "markdown",
   "metadata": {},
   "source": [
    "That seems easier to work with, but what are the items we can request? This is defined by YANG models.  \n",
    "There are two types of models, native (vendor-specific) or the common models like ietf or openconfig.  \n",
    "For the next example, we will download and explore IETF-interfaces model:"
   ]
  },
  {
   "cell_type": "code",
   "execution_count": null,
   "metadata": {
    "collapsed": true
   },
   "outputs": [],
   "source": [
    "from subprocess import Popen, PIPE, STDOUT\n",
    "SCHEMA_TO_GET = 'ietf-interfaces'\n",
    "print('We are connecting to the device and downloading the YANG Module')\n",
    "print(\"Now we will do a 'pyang -f tree of %s.yang'\" % SCHEMA_TO_GET)\n",
    "print('This structure is what data we can get (ro/rw) or set (rw)')\n",
    "schema = m.get_schema(SCHEMA_TO_GET)\n",
    "p = Popen(['pyang', '-f', 'tree'], stdout=PIPE, stdin=PIPE, stderr=PIPE)\n",
    "stdout_data = p.communicate(input=schema.data.encode())[0].decode()\n",
    "print(stdout_data)"
   ]
  },
  {
   "cell_type": "markdown",
   "metadata": {
    "collapsed": true
   },
   "source": [
    "We can also poll other operational data like CPU utilization. In this case we are using vendor-specific model:"
   ]
  },
  {
   "cell_type": "code",
   "execution_count": null,
   "metadata": {
    "collapsed": true
   },
   "outputs": [],
   "source": [
    "CPU_UTIL_FILTER = '''\n",
    "<cpu-usage xmlns=\"http://cisco.com/ns/yang/Cisco-IOS-XE-process-cpu-oper\">\n",
    "<cpu-utilization>\n",
    "<cpu-usage-processes>\n",
    "</cpu-usage-processes>\n",
    "</cpu-utilization>\n",
    "</cpu-usage>\n",
    "'''\n",
    "\n",
    "xml_result = m.get(filter=('subtree', CPU_UTIL_FILTER))\n",
    "print(prettify_xml(xml_result))"
   ]
  },
  {
   "cell_type": "markdown",
   "metadata": {},
   "source": [
    "Let's convert the output to dictionary using xmltodict and show processes only if their one minute CPU utilization is more than 0%:"
   ]
  },
  {
   "cell_type": "code",
   "execution_count": null,
   "metadata": {
    "collapsed": true
   },
   "outputs": [],
   "source": [
    "import xmltodict\n",
    "cpu_dict = xmltodict.parse(str(xml_result))['rpc-reply']['data']\n",
    "for process in cpu_dict['cpu-usage']['cpu-utilization']['cpu-usage-processes']['cpu-usage-process']:\n",
    "    process_name = process['name']\n",
    "    process_one_minute_utilization = float(process['one-minute'])\n",
    "    if process_one_minute_utilization > 0:\n",
    "        print(\"Process name: {}, one minute CPU utilization: {}%\".format(process_name, process_one_minute_utilization))\n"
   ]
  },
  {
   "cell_type": "markdown",
   "metadata": {},
   "source": [
    "Let's now take a look on retrieving interface statistics using standard IETF model. On top of that, we would like to see the ratio of input errors to total number of packets:\n"
   ]
  },
  {
   "cell_type": "code",
   "execution_count": null,
   "metadata": {
    "collapsed": true
   },
   "outputs": [],
   "source": [
    "INT_STATS_FILTER ='''\n",
    "<filter>\n",
    "  <interfaces-state xmlns=\"urn:ietf:params:xml:ns:yang:ietf-interfaces\">\n",
    "    <interface>\n",
    "      <name></name>\n",
    "      <statistics>\n",
    "        <in-octets />\n",
    "        <in-unicast-pkts />\n",
    "        <in-errors />\n",
    "      </statistics>\n",
    "    </interface>\n",
    "  </interfaces-state>\n",
    "</filter>'''\n",
    "try:\n",
    "    int_stats_xml = m.get(INT_STATS_FILTER)\n",
    "except:\n",
    "    m = ncclient.manager.connect(**nckwargs)\n",
    "    int_stats_xml = m.get(INT_STATS_FILTER)\n",
    "    \n",
    "print(prettify_xml(int_stats_xml))\n",
    "\n",
    "int_stats_dict = xmltodict.parse(str(int_stats_xml))['rpc-reply']['data']\n",
    "for interface in int_stats_dict['interfaces-state']['interface']:\n",
    "    unicast_packets = int(interface['statistics']['in-unicast-pkts'])\n",
    "    if unicast_packets == 0:\n",
    "        input_errors_rate = 0\n",
    "    else:\n",
    "        input_errors = int(interface['statistics']['in-errors'])\n",
    "        input_errors_rate = input_errors / unicast_packets\n",
    "    int_name = interface['name']\n",
    "    print(\"Interface {} has {} input unicast packets, {} input errors which result in input errors rate: {:.2%}\".format(int_name, unicast_packets, input_errors, input_errors_rate))\n"
   ]
  },
  {
   "cell_type": "markdown",
   "metadata": {},
   "source": [
    "Let's also retrieve configuration for interfaces (defined in IETF model):"
   ]
  },
  {
   "cell_type": "code",
   "execution_count": null,
   "metadata": {
    "collapsed": true
   },
   "outputs": [],
   "source": [
    "INT_CONF_FILTER ='''\n",
    "<filter>\n",
    "  <interfaces xmlns=\"urn:ietf:params:xml:ns:yang:ietf-interfaces\">\n",
    "    <interface></interface>\n",
    "  </interfaces>\n",
    "</filter>'''\n",
    "try:\n",
    "    int_conf_xml = m.get_config('running', INT_CONF_FILTER)\n",
    "except:\n",
    "    m = ncclient.manager.connect(**nckwargs)\n",
    "    int_conf_xml = m.get_config('running', INT_CONF_FILTER)\n",
    "    \n",
    "print(prettify_xml(int_conf_xml))"
   ]
  },
  {
   "cell_type": "markdown",
   "metadata": {},
   "source": [
    "## YDK\n",
    "Working with XML is fine, but there is another approach. What if the model is converted to OOP (object-oriented programming) objects native to the language (in our case it is Python).  \n",
    "Meet **YDK** - models are compiled to Python objects.  \n",
    "Let's take a look how to work with YDK."
   ]
  },
  {
   "cell_type": "code",
   "execution_count": null,
   "metadata": {
    "collapsed": true
   },
   "outputs": [],
   "source": [
    "from ydk.services import CRUDService\n",
    "from ydk.providers import NetconfServiceProvider\n",
    "from ydk.models.ietf import ietf_interfaces as intf\n",
    "from ydk.models.ietf import iana_if_type as iftype\n",
    "\n",
    "# create NETCONF provider\n",
    "provider = NetconfServiceProvider(address=HOST,\n",
    "                                  username=USERNAME,\n",
    "                                  password=PASSWORD)\n",
    "\n",
    "# create CRUD service\n",
    "crud = CRUDService()\n"
   ]
  },
  {
   "cell_type": "code",
   "execution_count": null,
   "metadata": {
    "collapsed": true
   },
   "outputs": [],
   "source": [
    "# query object\n",
    "query = intf.Interfaces()\n",
    "\n",
    "# get stuff\n",
    "intfs = crud.read(provider, query)\n",
    "\n",
    "# print interface names and types\n",
    "for i in intfs.interface:\n",
    "    print(\"Interface: {}, type: {}, description: {}\".format(i.name, i.type._meta_info().yang_name, i.description))"
   ]
  },
  {
   "cell_type": "markdown",
   "metadata": {},
   "source": [
    "What about retrieving interface statistics?"
   ]
  },
  {
   "cell_type": "code",
   "execution_count": null,
   "metadata": {
    "collapsed": true
   },
   "outputs": [],
   "source": [
    "query = intf.InterfacesState()\n",
    "\n",
    "# retrieve operational data\n",
    "interfaces = crud.read(provider, query)\n",
    "for interface in interfaces.interface:\n",
    "    print(\"Interface: {}, Output packets: {}, operational status: {}\".format(\n",
    "        interface.name, interface.statistics.out_unicast_pkts, interface.oper_status))\n",
    "\n"
   ]
  },
  {
   "cell_type": "markdown",
   "metadata": {},
   "source": [
    "### Create Loopback using YDK"
   ]
  },
  {
   "cell_type": "code",
   "execution_count": null,
   "metadata": {
    "collapsed": true
   },
   "outputs": [],
   "source": [
    "# Change to your name\n",
    "AUTHOR = \"Attendee\"\n",
    "# new interface\n",
    "new_loopback = intf.Interfaces.Interface()\n",
    "\n",
    "# create a new loopback\n",
    "new_loopback.name = \"Loopback2449\"\n",
    "new_loopback.type = iftype.SoftwareloopbackIdentity()\n",
    "new_loopback.description = \"Created by {} during DEVNET-2449 at Cisco Live US 2017\".format(AUTHOR)\n",
    "res = crud.create(provider, new_loopback)"
   ]
  },
  {
   "cell_type": "markdown",
   "metadata": {},
   "source": [
    "Let's check if it worked:"
   ]
  },
  {
   "cell_type": "code",
   "execution_count": null,
   "metadata": {
    "collapsed": true
   },
   "outputs": [],
   "source": [
    "query = intf.Interfaces()\n",
    "intfs = crud.read(provider, query)\n",
    "\n",
    "for i in intfs.interface:\n",
    "    print(\"Interface: {}, type: {}, description: {}\".format(i.name, i.type._meta_info().yang_name, i.description))"
   ]
  },
  {
   "cell_type": "markdown",
   "metadata": {},
   "source": [
    "### Delete Loopback using YDK"
   ]
  },
  {
   "cell_type": "code",
   "execution_count": null,
   "metadata": {
    "collapsed": true
   },
   "outputs": [],
   "source": [
    "# create CRUD service\n",
    "crud = CRUDService()\n",
    "\n",
    "# interface to delete\n",
    "interface_to_delete = intf.Interfaces.Interface()\n",
    "\n",
    "interface_to_delete.name = 'Loopback2449'\n",
    "res = crud.delete(provider, interface_to_delete)"
   ]
  },
  {
   "cell_type": "markdown",
   "metadata": {},
   "source": [
    "Let's check again:"
   ]
  },
  {
   "cell_type": "code",
   "execution_count": null,
   "metadata": {
    "collapsed": true
   },
   "outputs": [],
   "source": [
    "query = intf.Interfaces()\n",
    "intfs = crud.read(provider, query)\n",
    "\n",
    "for i in intfs.interface:\n",
    "    print(\"Interface: {}, type: {}, description: {}\".format(i.name, i.type._meta_info().yang_name, i.description))"
   ]
  },
  {
   "cell_type": "code",
   "execution_count": null,
   "metadata": {
    "collapsed": true
   },
   "outputs": [],
   "source": []
  }
 ],
 "metadata": {
  "kernelspec": {
   "display_name": "Python 3",
   "language": "python",
   "name": "python3"
  },
  "language_info": {
   "codemirror_mode": {
    "name": "ipython",
    "version": 3
   },
   "file_extension": ".py",
   "mimetype": "text/x-python",
   "name": "python",
   "nbconvert_exporter": "python",
   "pygments_lexer": "ipython3",
   "version": "3.6.1"
  }
 },
 "nbformat": 4,
 "nbformat_minor": 2
}
