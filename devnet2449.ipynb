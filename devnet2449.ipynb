{
 "cells": [
  {
   "cell_type": "markdown",
   "metadata": {
    "deletable": true,
    "editable": true
   },
   "source": [
    "# DEVNET-2449 Python For the Enterprise Automation Exloration"
   ]
  },
  {
   "cell_type": "code",
   "execution_count": 1,
   "metadata": {
    "collapsed": true,
    "deletable": true,
    "editable": true
   },
   "outputs": [],
   "source": [
    "HOST = '172.20.20.10'\n",
    "PORT = 830\n",
    "USER = 'vagrant'\n",
    "PASS = 'vagrant'"
   ]
  },
  {
   "cell_type": "code",
   "execution_count": 2,
   "metadata": {
    "collapsed": false,
    "deletable": true,
    "editable": true
   },
   "outputs": [],
   "source": [
    "import jtextfsm as textfsm\n",
    "from netmiko import ConnectHandler\n",
    "import pprint\n",
    "\n",
    "def get_show_inventory(ip, username, password, enable_secret):\n",
    "    # establish a connection to the device\n",
    "    ssh_connection = ConnectHandler(\n",
    "        device_type='cisco_ios',\n",
    "        ip=ip,\n",
    "        username=username,\n",
    "        password=password,\n",
    "        secret=enable_secret)\n",
    "    # enter enable mode\n",
    "    ssh_connection.enable()\n",
    "    # prepend the command prompt to the result (used to identify the local device)\n",
    "    result = ssh_connection.find_prompt() + \"\\n\"\n",
    "    # execute the show inventory command with extended delay\n",
    "    result += ssh_connection.send_command(\"show inventory\", delay_factor=2)\n",
    "    # close SSH connection\n",
    "    ssh_connection.disconnect()\n",
    "    return result\n"
   ]
  },
  {
   "cell_type": "code",
   "execution_count": 3,
   "metadata": {
    "collapsed": false,
    "deletable": true,
    "editable": true
   },
   "outputs": [
    {
     "name": "stdout",
     "output_type": "stream",
     "text": [
      "This is what the text looks like\n",
      "rtr1#\n",
      "NAME: \"Chassis\", DESCR: \"Cisco CSR1000V Chassis\"\n",
      "PID: CSR1000V          , VID: V00  , SN: 9H79916HPTZ\n",
      "\n",
      "NAME: \"module R0\", DESCR: \"Cisco CSR1000V Route Processor\"\n",
      "PID: CSR1000V          , VID: V00  , SN: JAB1303001C\n",
      "\n",
      "NAME: \"module F0\", DESCR: \"Cisco CSR1000V Embedded Services Processor\"\n",
      "PID: CSR1000V          , VID:      , SN:            \n",
      "\n",
      "\n"
     ]
    }
   ],
   "source": [
    "    raw_text_data = get_show_inventory(HOST, USER, PASS, PASS)\n",
    "    print ('This is what the text looks like\\n' + raw_text_data)\n",
    "    # Run the text through the FSM. \n",
    "    # The argument 'template' is a file handle and 'raw_text_data' is a \n",
    "    # string with the content from the show_inventory.txt file\n",
    "    template = open(\"/home/docker/cli/show_inventory_multiple.textfsm\")\n",
    "    re_table = textfsm.TextFSM(template)\n",
    "    fsm_results = re_table.ParseText(raw_text_data)\n",
    "    # build keys for inventory sub-items \n",
    "    keys = [s for s in re_table.header]\n",
    "    #build inventory list of dictionaries\n",
    "    inventory = []\n",
    "    for row in fsm_results:\n",
    "      entry = {}\n",
    "      for i, item in enumerate(row):\n",
    "        entry.update({keys[i]:item})\n",
    "      inventory.append(entry)\n",
    "    pp = pprint.PrettyPrinter(indent=2)"
   ]
  },
  {
   "cell_type": "code",
   "execution_count": 4,
   "metadata": {
    "collapsed": false,
    "deletable": true,
    "editable": true
   },
   "outputs": [
    {
     "name": "stdout",
     "output_type": "stream",
     "text": [
      "Value Filldown hostname (\\S+)\n",
      "Value name (.+)\n",
      "Value description (.*)\n",
      "Value productid (\\S*)\n",
      "Value vid (\\S*)\n",
      "Value Required serialnumber (\\S+)\n",
      "\n",
      "Start\n",
      "  ^${hostname}[>#].*\n",
      "  ^NAME: \"${name}\", DESCR: \"${description}\"\n",
      "  ^PID: ${productid}.*VID: ${vid}.*SN: ${serialnumber} -> Record\n"
     ]
    }
   ],
   "source": [
    "    print(template.read())"
   ]
  },
  {
   "cell_type": "code",
   "execution_count": 5,
   "metadata": {
    "collapsed": false,
    "deletable": true,
    "editable": true
   },
   "outputs": [
    {
     "name": "stdout",
     "output_type": "stream",
     "text": [
      "Results translated through regular expression template organized as a dictonary\n",
      "[ { u'description': u'Cisco CSR1000V Chassis',\n",
      "    u'hostname': u'rtr1',\n",
      "    u'name': u'Chassis',\n",
      "    u'productid': u'CSR1000V',\n",
      "    u'serialnumber': u'9H79916HPTZ',\n",
      "    u'vid': u'V00'},\n",
      "  { u'description': u'Cisco CSR1000V Route Processor',\n",
      "    u'hostname': u'rtr1',\n",
      "    u'name': u'module R0',\n",
      "    u'productid': u'CSR1000V',\n",
      "    u'serialnumber': u'JAB1303001C',\n",
      "    u'vid': u'V00'}]\n",
      "[u'serialnumber', u'name', u'vid', u'description', u'hostname', u'productid']\n",
      "[u'9H79916HPTZ', u'Chassis', u'V00', u'Cisco CSR1000V Chassis', u'rtr1', u'CSR1000V']\n",
      "[u'JAB1303001C', u'module R0', u'V00', u'Cisco CSR1000V Route Processor', u'rtr1', u'CSR1000V']\n"
     ]
    }
   ],
   "source": [
    "    print('Results translated through regular expression template organized as a dictonary')\n",
    "    pp.pprint(inventory) # Print full inventory as dictionary\n",
    "    print([key for key, value in inventory[0].items()])  # print key values as list\n",
    "    for item in inventory:   # print inventory elements a table \n",
    "        print([item[key] for key in item])\n",
    "    "
   ]
  },
  {
   "cell_type": "code",
   "execution_count": 6,
   "metadata": {
    "collapsed": false,
    "deletable": true,
    "editable": true
   },
   "outputs": [
    {
     "name": "stdout",
     "output_type": "stream",
     "text": [
      "\n",
      "Found Devices with specific productid CSR\n",
      "[]\n"
     ]
    }
   ],
   "source": [
    "    sought_product = 'CSR'\n",
    "    resultlist = [d for d in inventory if d.get('productid', '') == sought_product]\n",
    "    print('\\nFound Devices with specific productid ' + sought_product)\n",
    "    pp.pprint(resultlist) #print list of devices with sought productid\n",
    "    #print ([(item['hostname'], item['productid']) for item in resultlist])  #print found items as a tuple"
   ]
  },
  {
   "cell_type": "code",
   "execution_count": 7,
   "metadata": {
    "collapsed": true,
    "deletable": true,
    "editable": true
   },
   "outputs": [],
   "source": [
    "def get_show_ip_route(ip, username, password, enable_secret):\n",
    "    # establish a connection to the device\n",
    "    ssh_connection = ConnectHandler(\n",
    "        device_type='cisco_ios',\n",
    "        ip=ip,\n",
    "        username=username,\n",
    "        password=password,\n",
    "        secret=enable_secret)\n",
    "    # enter enable mode\n",
    "    ssh_connection.enable()\n",
    "    # prepend the command prompt to the result (used to identify the local device)\n",
    "    result = ssh_connection.find_prompt() + \"\\n\"\n",
    "    # execute the show inventory command with extended delay\n",
    "    result += ssh_connection.send_command(\"show ip route\", delay_factor=2)\n",
    "    # close SSH connection\n",
    "    ssh_connection.disconnect()\n",
    "    return result"
   ]
  },
  {
   "cell_type": "code",
   "execution_count": 8,
   "metadata": {
    "collapsed": false,
    "deletable": true,
    "editable": true
   },
   "outputs": [
    {
     "name": "stdout",
     "output_type": "stream",
     "text": [
      "This is what the text looks like\n",
      "rtr1#\n",
      "Codes: L - local, C - connected, S - static, R - RIP, M - mobile, B - BGP\n",
      "       D - EIGRP, EX - EIGRP external, O - OSPF, IA - OSPF inter area \n",
      "       N1 - OSPF NSSA external type 1, N2 - OSPF NSSA external type 2\n",
      "       E1 - OSPF external type 1, E2 - OSPF external type 2\n",
      "       i - IS-IS, su - IS-IS summary, L1 - IS-IS level-1, L2 - IS-IS level-2\n",
      "       ia - IS-IS inter area, * - candidate default, U - per-user static route\n",
      "       o - ODR, P - periodic downloaded static route, H - NHRP, l - LISP\n",
      "       a - application route\n",
      "       + - replicated route, % - next hop override, p - overrides from PfR\n",
      "\n",
      "Gateway of last resort is 10.0.2.2 to network 0.0.0.0\n",
      "\n",
      "S*    0.0.0.0/0 [254/0] via 10.0.2.2\n",
      "      10.0.0.0/8 is variably subnetted, 2 subnets, 2 masks\n",
      "C        10.0.2.0/24 is directly connected, GigabitEthernet1\n",
      "L        10.0.2.15/32 is directly connected, GigabitEthernet1\n",
      "      172.16.0.0/16 is variably subnetted, 2 subnets, 2 masks\n",
      "C        172.16.100.0/24 is directly connected, GigabitEthernet3\n",
      "L        172.16.100.10/32 is directly connected, GigabitEthernet3\n",
      "      172.20.0.0/16 is variably subnetted, 2 subnets, 2 masks\n",
      "C        172.20.20.0/24 is directly connected, GigabitEthernet2\n",
      "L        172.20.20.10/32 is directly connected, GigabitEthernet2\n",
      "S     192.168.0.0/24 [1/0] via 172.20.20.100\n",
      "S     192.168.1.0/24 [1/0] via 172.20.20.100\n",
      "S     192.168.2.0/24 [1/0] via 172.20.20.100\n",
      "S     192.168.4.0/24 [1/0] via 172.20.20.100\n",
      "S     198.18.10.0/24 [1/0] via 172.20.20.100\n",
      "S     198.18.11.0/24 [1/0] via 172.20.20.100\n",
      "S     198.18.12.0/24 [1/0] via 172.20.20.100\n",
      "S     198.18.13.0/24 [1/0] via 172.20.20.100\n"
     ]
    }
   ],
   "source": [
    "raw_text_data = get_show_ip_route(HOST, USER, PASS, PASS)\n",
    "print ('This is what the text looks like\\n' + raw_text_data)"
   ]
  },
  {
   "cell_type": "code",
   "execution_count": 15,
   "metadata": {
    "collapsed": false,
    "deletable": true,
    "editable": true
   },
   "outputs": [
    {
     "name": "stdout",
     "output_type": "stream",
     "text": [
      "Here we are printing the RIB as XML\n",
      "\n",
      "<?xml version=\"1.0\" ?>\n",
      "<rpc-reply message-id=\"urn:uuid:b5904c5d-b24d-465f-a663-160baa7ab2ba\" xmlns=\"urn:ietf:params:xml:ns:netconf:base:1.0\" xmlns:nc=\"urn:ietf:params:xml:ns:netconf:base:1.0\">\n",
      " <data>\n",
      "  <routing-state xmlns=\"urn:ietf:params:xml:ns:yang:ietf-routing\">\n",
      "   <routing-instance>\n",
      "    <ribs>\n",
      "     <rib>\n",
      "      <name>ipv4-default</name>\n",
      "      <address-family>v4ur:ipv4-unicast</address-family>\n",
      "      <default-rib>true</default-rib>\n",
      "      <routes>\n",
      "       <route>\n",
      "        <destination-prefix>0.0.0.0/0</destination-prefix>\n",
      "        <route-preference>254</route-preference>\n",
      "        <metric>0</metric>\n",
      "        <next-hop>\n",
      "         <next-hop-address>10.0.2.2</next-hop-address>\n",
      "        </next-hop>\n",
      "        <source-protocol>static</source-protocol>\n",
      "       </route>\n",
      "       <route>\n",
      "        <destination-prefix>10.0.2.0/24</destination-prefix>\n",
      "        <route-preference>0</route-preference>\n",
      "        <metric>0</metric>\n",
      "        <next-hop>\n",
      "         <outgoing-interface>GigabitEthernet1</outgoing-interface>\n",
      "        </next-hop>\n",
      "        <source-protocol>direct</source-protocol>\n",
      "       </route>\n",
      "       <route>\n",
      "        <destination-prefix>10.0.2.15/32</destination-prefix>\n",
      "        <route-preference>0</route-preference>\n",
      "        <metric>0</metric>\n",
      "        <next-hop>\n",
      "         <outgoing-interface>GigabitEthernet1</outgoing-interface>\n",
      "        </next-hop>\n",
      "        <source-protocol>direct</source-protocol>\n",
      "       </route>\n",
      "       <route>\n",
      "        <destination-prefix>172.16.100.0/24</destination-prefix>\n",
      "        <route-preference>0</route-preference>\n",
      "        <metric>0</metric>\n",
      "        <next-hop>\n",
      "         <outgoing-interface>GigabitEthernet3</outgoing-interface>\n",
      "        </next-hop>\n",
      "        <source-protocol>direct</source-protocol>\n",
      "       </route>\n",
      "       <route>\n",
      "        <destination-prefix>172.16.100.10/32</destination-prefix>\n",
      "        <route-preference>0</route-preference>\n",
      "        <metric>0</metric>\n",
      "        <next-hop>\n",
      "         <outgoing-interface>GigabitEthernet3</outgoing-interface>\n",
      "        </next-hop>\n",
      "        <source-protocol>direct</source-protocol>\n",
      "       </route>\n",
      "       <route>\n",
      "        <destination-prefix>172.20.20.0/24</destination-prefix>\n",
      "        <route-preference>0</route-preference>\n",
      "        <metric>0</metric>\n",
      "        <next-hop>\n",
      "         <outgoing-interface>GigabitEthernet2</outgoing-interface>\n",
      "        </next-hop>\n",
      "        <source-protocol>direct</source-protocol>\n",
      "       </route>\n",
      "       <route>\n",
      "        <destination-prefix>172.20.20.10/32</destination-prefix>\n",
      "        <route-preference>0</route-preference>\n",
      "        <metric>0</metric>\n",
      "        <next-hop>\n",
      "         <outgoing-interface>GigabitEthernet2</outgoing-interface>\n",
      "        </next-hop>\n",
      "        <source-protocol>direct</source-protocol>\n",
      "       </route>\n",
      "       <route>\n",
      "        <destination-prefix>192.168.0.0/24</destination-prefix>\n",
      "        <route-preference>1</route-preference>\n",
      "        <metric>0</metric>\n",
      "        <next-hop>\n",
      "         <next-hop-address>172.20.20.100</next-hop-address>\n",
      "        </next-hop>\n",
      "        <source-protocol>static</source-protocol>\n",
      "       </route>\n",
      "       <route>\n",
      "        <destination-prefix>192.168.1.0/24</destination-prefix>\n",
      "        <route-preference>1</route-preference>\n",
      "        <metric>0</metric>\n",
      "        <next-hop>\n",
      "         <next-hop-address>172.20.20.100</next-hop-address>\n",
      "        </next-hop>\n",
      "        <source-protocol>static</source-protocol>\n",
      "       </route>\n",
      "       <route>\n",
      "        <destination-prefix>192.168.2.0/24</destination-prefix>\n",
      "        <route-preference>1</route-preference>\n",
      "        <metric>0</metric>\n",
      "        <next-hop>\n",
      "         <next-hop-address>172.20.20.100</next-hop-address>\n",
      "        </next-hop>\n",
      "        <source-protocol>static</source-protocol>\n",
      "       </route>\n",
      "       <route>\n",
      "        <destination-prefix>192.168.4.0/24</destination-prefix>\n",
      "        <route-preference>1</route-preference>\n",
      "        <metric>0</metric>\n",
      "        <next-hop>\n",
      "         <next-hop-address>172.20.20.100</next-hop-address>\n",
      "        </next-hop>\n",
      "        <source-protocol>static</source-protocol>\n",
      "       </route>\n",
      "       <route>\n",
      "        <destination-prefix>198.18.10.0/24</destination-prefix>\n",
      "        <route-preference>1</route-preference>\n",
      "        <metric>0</metric>\n",
      "        <next-hop>\n",
      "         <next-hop-address>172.20.20.100</next-hop-address>\n",
      "        </next-hop>\n",
      "        <source-protocol>static</source-protocol>\n",
      "       </route>\n",
      "       <route>\n",
      "        <destination-prefix>198.18.11.0/24</destination-prefix>\n",
      "        <route-preference>1</route-preference>\n",
      "        <metric>0</metric>\n",
      "        <next-hop>\n",
      "         <next-hop-address>172.20.20.100</next-hop-address>\n",
      "        </next-hop>\n",
      "        <source-protocol>static</source-protocol>\n",
      "       </route>\n",
      "       <route>\n",
      "        <destination-prefix>198.18.12.0/24</destination-prefix>\n",
      "        <route-preference>1</route-preference>\n",
      "        <metric>0</metric>\n",
      "        <next-hop>\n",
      "         <next-hop-address>172.20.20.100</next-hop-address>\n",
      "        </next-hop>\n",
      "        <source-protocol>static</source-protocol>\n",
      "       </route>\n",
      "       <route>\n",
      "        <destination-prefix>198.18.13.0/24</destination-prefix>\n",
      "        <route-preference>1</route-preference>\n",
      "        <metric>0</metric>\n",
      "        <next-hop>\n",
      "         <next-hop-address>172.20.20.100</next-hop-address>\n",
      "        </next-hop>\n",
      "        <source-protocol>static</source-protocol>\n",
      "       </route>\n",
      "      </routes>\n",
      "     </rib>\n",
      "    </ribs>\n",
      "   </routing-instance>\n",
      "  </routing-state>\n",
      " </data>\n",
      "</rpc-reply>\n",
      "\n"
     ]
    }
   ],
   "source": [
    "import ncclient.manager\n",
    "import xml.dom.minidom\n",
    "from ncclient.operations import TimeoutExpiredError\n",
    "  \n",
    "route_filter = '''\n",
    "  <routing-state xmlns=\"urn:ietf:params:xml:ns:yang:ietf-routing\">\n",
    "    <routing-instance>\n",
    "      <ribs>\n",
    "        <rib>\n",
    "          <name>ipv4-default</name>\n",
    "          <address-family xmlns:v4ur=\"urn:ietf:params:xml:ns:yang:ietf-ipv4-unicast-routing\">v4ur:ipv4-unicast</address-family>\n",
    "          <default-rib>true</default-rib>\n",
    "          <routes/>\n",
    "        </rib>\n",
    "      </ribs>\n",
    "    </routing-instance>\n",
    "  </routing-state>\n",
    "  '''\n",
    "nckwargs = dict(\n",
    "    host=HOST,\n",
    "    port=PORT,\n",
    "    hostkey_verify=False,\n",
    "    username=USER,\n",
    "    password=PASS,\n",
    "    device_params={'name':\"csr\"}\n",
    ")\n",
    "m = ncclient.manager.connect(**nckwargs)  \n",
    "try:\n",
    "    print ('Here we are printing the RIB as XML\\n')\n",
    "    c = m.get(filter=('subtree', route_filter))\n",
    "    xmlDom = xml.dom.minidom.parseString(str(c))\n",
    "    print (xmlDom.toprettyxml( indent = \" \" ))\n",
    "except TimeoutExpiredError as e:\n",
    "    print(\"Operation timeout!\")\n",
    "except Exception as e:\n",
    "    print(\"ERORR severity={}, tag={}\".format(e.severity, e.tag))"
   ]
  },
  {
   "cell_type": "code",
   "execution_count": 16,
   "metadata": {
    "collapsed": false,
    "deletable": true,
    "editable": true
   },
   "outputs": [
    {
     "name": "stdout",
     "output_type": "stream",
     "text": [
      "\n",
      "Or we can just grab the information that is interesting\n",
      "\n",
      "[ { 'dest': '0.0.0.0/0', 'hop': '10.0.2.2', 'prot': 'static'},\n",
      "  { 'dest': '10.0.2.0/24', 'intfc': 'GigabitEthernet1', 'prot': 'direct'},\n",
      "  { 'dest': '10.0.2.15/32', 'intfc': 'GigabitEthernet1', 'prot': 'direct'},\n",
      "  { 'dest': '172.16.100.0/24', 'intfc': 'GigabitEthernet3', 'prot': 'direct'},\n",
      "  { 'dest': '172.16.100.10/32', 'intfc': 'GigabitEthernet3', 'prot': 'direct'},\n",
      "  { 'dest': '172.20.20.0/24', 'intfc': 'GigabitEthernet2', 'prot': 'direct'},\n",
      "  { 'dest': '172.20.20.10/32', 'intfc': 'GigabitEthernet2', 'prot': 'direct'},\n",
      "  { 'dest': '192.168.0.0/24', 'hop': '172.20.20.100', 'prot': 'static'},\n",
      "  { 'dest': '192.168.1.0/24', 'hop': '172.20.20.100', 'prot': 'static'},\n",
      "  { 'dest': '192.168.2.0/24', 'hop': '172.20.20.100', 'prot': 'static'},\n",
      "  { 'dest': '192.168.4.0/24', 'hop': '172.20.20.100', 'prot': 'static'},\n",
      "  { 'dest': '198.18.10.0/24', 'hop': '172.20.20.100', 'prot': 'static'},\n",
      "  { 'dest': '198.18.11.0/24', 'hop': '172.20.20.100', 'prot': 'static'},\n",
      "  { 'dest': '198.18.12.0/24', 'hop': '172.20.20.100', 'prot': 'static'},\n",
      "  { 'dest': '198.18.13.0/24', 'hop': '172.20.20.100', 'prot': 'static'}]\n"
     ]
    }
   ],
   "source": [
    "ns = 'urn:ietf:params:xml:ns:yang:ietf-routing'\n",
    "nsmap = dict(rt=ns)\n",
    "route_table=[]\n",
    "routes = c.data.findall(\".//{%s}route\" % ns)\n",
    "for i, route in enumerate(routes):\n",
    "    dest = route.xpath('./rt:destination-prefix/text()', namespaces=nsmap)\n",
    "    hop = route.xpath('./rt:next-hop/rt:next-hop-address/text()', namespaces=nsmap)\n",
    "    intfc = route.xpath('./rt:next-hop/rt:outgoing-interface/text()', namespaces=nsmap)\n",
    "    prot = route.xpath('./rt:source-protocol/text()', namespaces=nsmap)\n",
    "    if len(hop) > 0:\n",
    "        entry = {'hop':hop[0]}\n",
    "    if len(intfc) > 0:\n",
    "        entry = {'intfc':intfc[0]}  \n",
    "    entry.update({'dest':dest[0], 'prot':prot[0]}) \n",
    "    route_table.append(entry)\n",
    "print ('\\nOr we can just grab the information that is interesting\\n')\n",
    "pp = pprint.PrettyPrinter(indent=2)\n",
    "pp.pprint(route_table)  "
   ]
  },
  {
   "cell_type": "code",
   "execution_count": 23,
   "metadata": {
    "collapsed": false,
    "deletable": true,
    "editable": true
   },
   "outputs": [
    {
     "name": "stdout",
     "output_type": "stream",
     "text": [
      "Using NETCONF, you can present data as XML without any conversion\n",
      "<?xml version=\"1.0\" ?>\n",
      "<rpc-reply message-id=\"urn:uuid:8da51ccc-3bae-4eaa-9aa6-792df8ebcd9d\" xmlns=\"urn:ietf:params:xml:ns:netconf:base:1.0\" xmlns:nc=\"urn:ietf:params:xml:ns:netconf:base:1.0\">\n",
      " <data>\n",
      "  <cpu-usage xmlns=\"urn:cisco:params:xml:ns:yang:cisco-process-cpu\">\n",
      "   <cpu-utilization>\n",
      "    <five-seconds>0</five-seconds>\n",
      "    <five-seconds-intr>0</five-seconds-intr>\n",
      "    <one-minute>0</one-minute>\n",
      "    <five-minutes>0</five-minutes>\n",
      "   </cpu-utilization>\n",
      "  </cpu-usage>\n",
      " </data>\n",
      "</rpc-reply>\n",
      "\n"
     ]
    }
   ],
   "source": [
    "cpu_util = '''<filter>\n",
    "<cpu-usage xmlns=\"urn:cisco:params:xml:ns:yang:cisco-process-cpu\">\n",
    "<cpu-utilization>\n",
    "</cpu-utilization>\n",
    "</cpu-usage></filter>'''\n",
    "\n",
    "cpu_process = '''<filter>\n",
    "<cpu-usage xmlns=\"urn:cisco:params:xml:ns:yang:cisco-process-cpu\" xmlns:y=\"http://tail-f.com/ns/rest\" xmlns:pcpu=\"urn:cisco:params:xml:ns:yang:cisco-process-cpu\">\n",
    "<process-cpu-usage>\n",
    "</process>\n",
    "</process-cpu-usage>\n",
    "</filter>'''\n",
    "print ('Using NETCONF, you can present data as XML without any conversion')\n",
    "cpu_util = str( m.get( filter=cpu_util ) )\n",
    "xmlDom = xml.dom.minidom.parseString(cpu_util)\n",
    "print xmlDom.toprettyxml( indent = \" \" )"
   ]
  },
  {
   "cell_type": "code",
   "execution_count": 24,
   "metadata": {
    "collapsed": false,
    "deletable": true,
    "editable": true
   },
   "outputs": [
    {
     "name": "stdout",
     "output_type": "stream",
     "text": [
      "Or you can convert to Dictionary\n",
      "[(u'five-seconds', u'0'), (u'five-seconds-intr', u'0'), (u'one-minute', u'0'), (u'five-minutes', u'0')]\n"
     ]
    }
   ],
   "source": [
    "import xmltodict\n",
    "print ('Or you can convert to Dictionary')\n",
    "cpu_dict = xmltodict.parse( cpu_util )['rpc-reply']['data']\n",
    "print [(i,v) for i,v in cpu_dict['cpu-usage']['cpu-utilization'].iteritems()]"
   ]
  },
  {
   "cell_type": "code",
   "execution_count": 29,
   "metadata": {
    "collapsed": false,
    "deletable": true,
    "editable": true
   },
   "outputs": [
    {
     "name": "stdout",
     "output_type": "stream",
     "text": [
      "\n",
      "With structured data you can filter or sort \n",
      "Here we are grabbing the processes with higher run-time\n"
     ]
    },
    {
     "ename": "TypeError",
     "evalue": "'module' object is not callable",
     "output_type": "error",
     "traceback": [
      "\u001b[0;31m---------------------------------------------------------------------------\u001b[0m",
      "\u001b[0;31mTypeError\u001b[0m                                 Traceback (most recent call last)",
      "\u001b[0;32m<ipython-input-29-fb8e98bc618f>\u001b[0m in \u001b[0;36m<module>\u001b[0;34m()\u001b[0m\n\u001b[1;32m      3\u001b[0m \u001b[0mcpu_dict\u001b[0m \u001b[0;34m=\u001b[0m \u001b[0mcpu_dict\u001b[0m\u001b[0;34m[\u001b[0m\u001b[0;34m'rpc-reply'\u001b[0m\u001b[0;34m]\u001b[0m\u001b[0;34m[\u001b[0m\u001b[0;34m'data'\u001b[0m\u001b[0;34m]\u001b[0m\u001b[0;34m\u001b[0m\u001b[0m\n\u001b[1;32m      4\u001b[0m \u001b[0mnonzero_process\u001b[0m \u001b[0;34m=\u001b[0m \u001b[0;34m[\u001b[0m\u001b[0mt\u001b[0m \u001b[0;32mfor\u001b[0m \u001b[0mt\u001b[0m \u001b[0;32min\u001b[0m \u001b[0mcpu_dict\u001b[0m\u001b[0;34m[\u001b[0m\u001b[0;34m'cpu-usage'\u001b[0m\u001b[0;34m]\u001b[0m\u001b[0;34m[\u001b[0m\u001b[0;34m'process-cpu-usage'\u001b[0m\u001b[0;34m]\u001b[0m\u001b[0;34m[\u001b[0m\u001b[0;34m'process'\u001b[0m\u001b[0;34m]\u001b[0m \u001b[0;32mif\u001b[0m \u001b[0mint\u001b[0m\u001b[0;34m(\u001b[0m\u001b[0mt\u001b[0m\u001b[0;34m[\u001b[0m\u001b[0;34m'total-run-time'\u001b[0m\u001b[0;34m]\u001b[0m\u001b[0;34m)\u001b[0m \u001b[0;34m>\u001b[0m \u001b[0;36m100\u001b[0m\u001b[0;34m]\u001b[0m\u001b[0;34m\u001b[0m\u001b[0m\n\u001b[0;32m----> 5\u001b[0;31m \u001b[0;32mfor\u001b[0m \u001b[0mi\u001b[0m \u001b[0;32min\u001b[0m \u001b[0mnonzero_process\u001b[0m\u001b[0;34m:\u001b[0m \u001b[0mpprint\u001b[0m \u001b[0;34m(\u001b[0m\u001b[0mi\u001b[0m\u001b[0;34m[\u001b[0m\u001b[0;34m'name'\u001b[0m\u001b[0;34m]\u001b[0m\u001b[0;34m,\u001b[0m\u001b[0mi\u001b[0m\u001b[0;34m[\u001b[0m\u001b[0;34m'pid'\u001b[0m\u001b[0;34m]\u001b[0m\u001b[0;34m,\u001b[0m\u001b[0mi\u001b[0m\u001b[0;34m[\u001b[0m\u001b[0;34m'total-run-time'\u001b[0m\u001b[0;34m]\u001b[0m\u001b[0;34m)\u001b[0m\u001b[0;34m\u001b[0m\u001b[0m\n\u001b[0m",
      "\u001b[0;31mTypeError\u001b[0m: 'module' object is not callable"
     ]
    }
   ],
   "source": [
    "print ('\\nWith structured data you can filter or sort \\nHere we are grabbing the processes with higher run-time')\n",
    "cpu_dict = xmltodict.parse( str( m.get( filter=cpu_process ) ) )\n",
    "cpu_dict = cpu_dict['rpc-reply']['data']\n",
    "nonzero_process = [t for t in cpu_dict['cpu-usage']['process-cpu-usage']['process'] if int(t['total-run-time']) > 100]\n",
    "for i in nonzero_process: print (i['name'],i['pid'],i['total-run-time'])"
   ]
  },
  {
   "cell_type": "code",
   "execution_count": 20,
   "metadata": {
    "collapsed": false,
    "deletable": true,
    "editable": true
   },
   "outputs": [
    {
     "name": "stdout",
     "output_type": "stream",
     "text": [
      "\n",
      "Here is the XML data for Interfaces Operational State\n",
      "<?xml version=\"1.0\" ?>\n",
      "<rpc-reply message-id=\"urn:uuid:bf2c9fc4-3252-4d30-a59a-aa678507af8e\" xmlns=\"urn:ietf:params:xml:ns:netconf:base:1.0\" xmlns:nc=\"urn:ietf:params:xml:ns:netconf:base:1.0\">\n",
      " <data>\n",
      "  <interfaces-state xmlns=\"urn:ietf:params:xml:ns:yang:ietf-interfaces\">\n",
      "   <interface>\n",
      "    <name>GigabitEthernet1</name>\n",
      "    <oper-status>up</oper-status>\n",
      "    <phys-address>08:00:27:59:45:4f</phys-address>\n",
      "    <speed>1000000000</speed>\n",
      "    <statistics>\n",
      "     <in-octets>43885</in-octets>\n",
      "     <in-broadcast-pkts>0</in-broadcast-pkts>\n",
      "     <in-multicast-pkts>0</in-multicast-pkts>\n",
      "     <in-discards>0</in-discards>\n",
      "     <in-errors>0</in-errors>\n",
      "     <out-octets>59217</out-octets>\n",
      "     <out-discards>0</out-discards>\n",
      "     <out-errors>0</out-errors>\n",
      "     <in-pkts xmlns=\"urn:ietf:params:xml:ns:yang:ietf-interfaces-ext\">442</in-pkts>\n",
      "     <out-pkts xmlns=\"urn:ietf:params:xml:ns:yang:ietf-interfaces-ext\">345</out-pkts>\n",
      "    </statistics>\n",
      "   </interface>\n",
      "   <interface>\n",
      "    <name>GigabitEthernet2</name>\n",
      "    <oper-status>up</oper-status>\n",
      "    <phys-address>08:00:27:da:92:48</phys-address>\n",
      "    <speed>1000000000</speed>\n",
      "    <statistics>\n",
      "     <in-octets>737972</in-octets>\n",
      "     <in-broadcast-pkts>0</in-broadcast-pkts>\n",
      "     <in-multicast-pkts>0</in-multicast-pkts>\n",
      "     <in-discards>0</in-discards>\n",
      "     <in-errors>0</in-errors>\n",
      "     <out-octets>1617021</out-octets>\n",
      "     <out-discards>0</out-discards>\n",
      "     <out-errors>0</out-errors>\n",
      "     <in-pkts xmlns=\"urn:ietf:params:xml:ns:yang:ietf-interfaces-ext\">6348</in-pkts>\n",
      "     <out-pkts xmlns=\"urn:ietf:params:xml:ns:yang:ietf-interfaces-ext\">2460</out-pkts>\n",
      "    </statistics>\n",
      "   </interface>\n",
      "   <interface>\n",
      "    <name>GigabitEthernet3</name>\n",
      "    <oper-status>up</oper-status>\n",
      "    <phys-address>08:00:27:6b:25:d4</phys-address>\n",
      "    <speed>10000000000</speed>\n",
      "    <statistics>\n",
      "     <in-octets>0</in-octets>\n",
      "     <in-broadcast-pkts>0</in-broadcast-pkts>\n",
      "     <in-multicast-pkts>0</in-multicast-pkts>\n",
      "     <in-discards>0</in-discards>\n",
      "     <in-errors>0</in-errors>\n",
      "     <out-octets>423798</out-octets>\n",
      "     <out-discards>0</out-discards>\n",
      "     <out-errors>0</out-errors>\n",
      "     <in-pkts xmlns=\"urn:ietf:params:xml:ns:yang:ietf-interfaces-ext\">0</in-pkts>\n",
      "     <out-pkts xmlns=\"urn:ietf:params:xml:ns:yang:ietf-interfaces-ext\">4710</out-pkts>\n",
      "    </statistics>\n",
      "    <diffserv-target-entry xmlns=\"urn:ietf:params:xml:ns:yang:ietf-diffserv-target\">\n",
      "     <direction>outbound</direction>\n",
      "     <policy-name>POLICY-TRANSPORT-1-SHAPE-ONLY</policy-name>\n",
      "     <diffserv-target-classifier-statistics>\n",
      "      <classifier-entry-name>class-default</classifier-entry-name>\n",
      "      <parent-path>POLICY-TRANSPORT-1-SHAPE-ONLY</parent-path>\n",
      "      <classifier-entry-statistics>\n",
      "       <classified-pkts>4623</classified-pkts>\n",
      "       <classified-bytes>416070</classified-bytes>\n",
      "       <classified-rate>0</classified-rate>\n",
      "      </classifier-entry-statistics>\n",
      "      <queuing-statistics>\n",
      "       <output-pkts>0</output-pkts>\n",
      "       <output-bytes>0</output-bytes>\n",
      "       <queue-size-pkts>64</queue-size-pkts>\n",
      "       <drop-pkts>0</drop-pkts>\n",
      "       <wred-stats>\n",
      "        <transmitted-pkts xmlns=\"urn:cisco:params:xml:ns:yang:cisco-qos-action-oper\">0</transmitted-pkts>\n",
      "        <transmitted-bytes xmlns=\"urn:cisco:params:xml:ns:yang:cisco-qos-action-oper\">0</transmitted-bytes>\n",
      "        <tail-drop-pkts xmlns=\"urn:cisco:params:xml:ns:yang:cisco-qos-action-oper\">0</tail-drop-pkts>\n",
      "        <tail-drop-bytes xmlns=\"urn:cisco:params:xml:ns:yang:cisco-qos-action-oper\">0</tail-drop-bytes>\n",
      "       </wred-stats>\n",
      "       <drop-pkts-flow xmlns=\"urn:cisco:params:xml:ns:yang:cisco-qos-action-oper\">0</drop-pkts-flow>\n",
      "       <drop-pkts-no-buffer xmlns=\"urn:cisco:params:xml:ns:yang:cisco-qos-action-oper\">0</drop-pkts-no-buffer>\n",
      "       <queue-peak-size-pkts xmlns=\"urn:cisco:params:xml:ns:yang:cisco-qos-action-oper\">0</queue-peak-size-pkts>\n",
      "       <queue-peak-size-bytes xmlns=\"urn:cisco:params:xml:ns:yang:cisco-qos-action-oper\">0</queue-peak-size-bytes>\n",
      "       <priority-stats xmlns=\"urn:cisco:params:xml:ns:yang:cisco-qos-action-oper\">\n",
      "        <bandwidth-exceed-drops>0</bandwidth-exceed-drops>\n",
      "       </priority-stats>\n",
      "      </queuing-statistics>\n",
      "      <marking-stats xmlns=\"urn:cisco:params:xml:ns:yang:cisco-qos-action-oper\">\n",
      "       <marking-dscp-stats>\n",
      "        <marked-pkts>0</marked-pkts>\n",
      "       </marking-dscp-stats>\n",
      "       <marking-dscp-tunnel-stats>\n",
      "        <marked-pkts>0</marked-pkts>\n",
      "       </marking-dscp-tunnel-stats>\n",
      "       <marking-cos-stats>\n",
      "        <marked-pkts>0</marked-pkts>\n",
      "       </marking-cos-stats>\n",
      "       <marking-cos-inner-stats>\n",
      "        <marked-pkts>0</marked-pkts>\n",
      "       </marking-cos-inner-stats>\n",
      "       <marking-discard-class-stats>\n",
      "        <marked-pkts>0</marked-pkts>\n",
      "       </marking-discard-class-stats>\n",
      "       <marking-qos-grp-stats>\n",
      "        <marked-pkts>0</marked-pkts>\n",
      "       </marking-qos-grp-stats>\n",
      "       <marking-prec-stats>\n",
      "        <marked-pkts>0</marked-pkts>\n",
      "       </marking-prec-stats>\n",
      "       <marking-prec-tunnel-stats>\n",
      "        <marked-pkts>0</marked-pkts>\n",
      "       </marking-prec-tunnel-stats>\n",
      "       <marking-mpls-exp-imp-stats>\n",
      "        <marked-pkts>0</marked-pkts>\n",
      "       </marking-mpls-exp-imp-stats>\n",
      "       <marking-mpls-exp-top-stats>\n",
      "        <marked-pkts>0</marked-pkts>\n",
      "       </marking-mpls-exp-top-stats>\n",
      "       <marking-fr-de-stats>\n",
      "        <marked-pkts>0</marked-pkts>\n",
      "       </marking-fr-de-stats>\n",
      "       <marking-fr-fecn-becn-stats>\n",
      "        <marked-pkts>0</marked-pkts>\n",
      "       </marking-fr-fecn-becn-stats>\n",
      "       <marking-atm-clp-stats>\n",
      "        <marked-pkts>0</marked-pkts>\n",
      "       </marking-atm-clp-stats>\n",
      "       <marking-vlan-inner-stats>\n",
      "        <marked-pkts>0</marked-pkts>\n",
      "       </marking-vlan-inner-stats>\n",
      "       <marking-dei-stats>\n",
      "        <marked-pkts>0</marked-pkts>\n",
      "       </marking-dei-stats>\n",
      "       <marking-dei-imp-stats>\n",
      "        <marked-pkts>0</marked-pkts>\n",
      "       </marking-dei-imp-stats>\n",
      "       <marking-srp-priority-stats>\n",
      "        <marked-pkts>0</marked-pkts>\n",
      "       </marking-srp-priority-stats>\n",
      "       <marking-wlan-user-priority-stats>\n",
      "        <marked-pkts>0</marked-pkts>\n",
      "       </marking-wlan-user-priority-stats>\n",
      "      </marking-stats>\n",
      "     </diffserv-target-classifier-statistics>\n",
      "    </diffserv-target-entry>\n",
      "   </interface>\n",
      "   <interface>\n",
      "    <name>Loopback999</name>\n",
      "    <oper-status>up</oper-status>\n",
      "    <speed>8000000000</speed>\n",
      "    <statistics>\n",
      "     <in-octets>0</in-octets>\n",
      "     <in-broadcast-pkts>0</in-broadcast-pkts>\n",
      "     <in-discards>0</in-discards>\n",
      "     <in-errors>0</in-errors>\n",
      "     <out-octets>0</out-octets>\n",
      "     <out-discards>0</out-discards>\n",
      "     <out-errors>0</out-errors>\n",
      "     <in-pkts xmlns=\"urn:ietf:params:xml:ns:yang:ietf-interfaces-ext\">0</in-pkts>\n",
      "     <out-pkts xmlns=\"urn:ietf:params:xml:ns:yang:ietf-interfaces-ext\">0</out-pkts>\n",
      "    </statistics>\n",
      "   </interface>\n",
      "   <interface>\n",
      "    <name>Tunnel4</name>\n",
      "    <oper-status>down</oper-status>\n",
      "    <speed>100000</speed>\n",
      "    <statistics>\n",
      "     <in-octets>0</in-octets>\n",
      "     <in-broadcast-pkts>0</in-broadcast-pkts>\n",
      "     <in-discards>0</in-discards>\n",
      "     <in-errors>0</in-errors>\n",
      "     <out-octets>0</out-octets>\n",
      "     <out-discards>0</out-discards>\n",
      "     <out-errors>0</out-errors>\n",
      "     <in-pkts xmlns=\"urn:ietf:params:xml:ns:yang:ietf-interfaces-ext\">0</in-pkts>\n",
      "     <out-pkts xmlns=\"urn:ietf:params:xml:ns:yang:ietf-interfaces-ext\">0</out-pkts>\n",
      "    </statistics>\n",
      "   </interface>\n",
      "  </interfaces-state>\n",
      " </data>\n",
      "</rpc-reply>\n",
      "\n"
     ]
    }
   ],
   "source": [
    "CONF_FILTER ='''<filter>\n",
    "  <interfaces xmlns=\"urn:ietf:params:xml:ns:yang:ietf-interfaces\">\n",
    "    <interface></interface>\n",
    "  </interfaces>\n",
    "</filter>'''\n",
    "STATE_FILTER ='''<filter>\n",
    "  <interfaces-state xmlns=\"urn:ietf:params:xml:ns:yang:ietf-interfaces\">\n",
    "    <interface></interface>\n",
    "  </interfaces-state>\n",
    "</filter>'''\n",
    "print('\\nHere is the XML data for Interfaces Operational State')\n",
    "interfaces = m.get(STATE_FILTER)\n",
    "pp = pprint.PrettyPrinter(indent=2)\n",
    "print(xml.dom.minidom.parseString(interfaces.xml).toprettyxml(indent=\" \"))"
   ]
  },
  {
   "cell_type": "code",
   "execution_count": 19,
   "metadata": {
    "collapsed": false,
    "deletable": true,
    "editable": true
   },
   "outputs": [
    {
     "name": "stdout",
     "output_type": "stream",
     "text": [
      "\n",
      "Here is the XML data for Interfaces Configuration\n",
      "<?xml version=\"1.0\" ?>\n",
      "<rpc-reply message-id=\"urn:uuid:4aa6905a-8e64-48a1-8fcf-e360f570fdb3\" xmlns=\"urn:ietf:params:xml:ns:netconf:base:1.0\" xmlns:nc=\"urn:ietf:params:xml:ns:netconf:base:1.0\">\n",
      " <data>\n",
      "  <interfaces xmlns=\"urn:ietf:params:xml:ns:yang:ietf-interfaces\">\n",
      "   <interface>\n",
      "    <name>GigabitEthernet1</name>\n",
      "    <type xmlns:ianaift=\"urn:ietf:params:xml:ns:yang:iana-if-type\">ianaift:ethernetCsmacd</type>\n",
      "    <enabled>true</enabled>\n",
      "    <ipv4 xmlns=\"urn:ietf:params:xml:ns:yang:ietf-ip\"/>\n",
      "    <ipv6 xmlns=\"urn:ietf:params:xml:ns:yang:ietf-ip\"/>\n",
      "   </interface>\n",
      "   <interface>\n",
      "    <name>GigabitEthernet2</name>\n",
      "    <type xmlns:ianaift=\"urn:ietf:params:xml:ns:yang:iana-if-type\">ianaift:ethernetCsmacd</type>\n",
      "    <enabled>true</enabled>\n",
      "    <ipv4 xmlns=\"urn:ietf:params:xml:ns:yang:ietf-ip\">\n",
      "     <address>\n",
      "      <ip>172.20.20.10</ip>\n",
      "      <netmask>255.255.255.0</netmask>\n",
      "     </address>\n",
      "    </ipv4>\n",
      "    <ipv6 xmlns=\"urn:ietf:params:xml:ns:yang:ietf-ip\"/>\n",
      "   </interface>\n",
      "   <interface>\n",
      "    <name>GigabitEthernet3</name>\n",
      "    <type xmlns:ianaift=\"urn:ietf:params:xml:ns:yang:iana-if-type\">ianaift:ethernetCsmacd</type>\n",
      "    <enabled>true</enabled>\n",
      "    <diffserv-target-entry xmlns=\"urn:ietf:params:xml:ns:yang:ietf-diffserv-target\">\n",
      "     <direction>outbound</direction>\n",
      "     <policy-name>POLICY-TRANSPORT-1-SHAPE-ONLY</policy-name>\n",
      "    </diffserv-target-entry>\n",
      "    <ipv4 xmlns=\"urn:ietf:params:xml:ns:yang:ietf-ip\">\n",
      "     <address>\n",
      "      <ip>172.16.100.10</ip>\n",
      "      <netmask>255.255.255.0</netmask>\n",
      "     </address>\n",
      "    </ipv4>\n",
      "    <ipv6 xmlns=\"urn:ietf:params:xml:ns:yang:ietf-ip\"/>\n",
      "   </interface>\n",
      "   <interface>\n",
      "    <name>Loopback999</name>\n",
      "    <type xmlns:ianaift=\"urn:ietf:params:xml:ns:yang:iana-if-type\">ianaift:softwareLoopback</type>\n",
      "    <enabled>true</enabled>\n",
      "    <ipv4 xmlns=\"urn:ietf:params:xml:ns:yang:ietf-ip\"/>\n",
      "    <ipv6 xmlns=\"urn:ietf:params:xml:ns:yang:ietf-ip\"/>\n",
      "   </interface>\n",
      "   <interface>\n",
      "    <name>Tunnel4</name>\n",
      "    <type xmlns:ianaift=\"urn:ietf:params:xml:ns:yang:iana-if-type\">ianaift:tunnel</type>\n",
      "    <enabled>true</enabled>\n",
      "    <ipv4 xmlns=\"urn:ietf:params:xml:ns:yang:ietf-ip\"/>\n",
      "    <ipv6 xmlns=\"urn:ietf:params:xml:ns:yang:ietf-ip\"/>\n",
      "   </interface>\n",
      "  </interfaces>\n",
      " </data>\n",
      "</rpc-reply>\n",
      "\n"
     ]
    }
   ],
   "source": [
    "m = ncclient.manager.connect(**nckwargs)\n",
    "print('\\nHere is the XML data for Interfaces Configuration')\n",
    "interfaces = m.get_config('running',CONF_FILTER)\n",
    "print(xml.dom.minidom.parseString(interfaces.xml).toprettyxml(indent=\" \"))"
   ]
  },
  {
   "cell_type": "code",
   "execution_count": 16,
   "metadata": {
    "collapsed": false,
    "deletable": true,
    "editable": true
   },
   "outputs": [
    {
     "name": "stdout",
     "output_type": "stream",
     "text": [
      " We are connecting to the device and downloading the YANG Module\n",
      "Now we will do a 'pyang -f tree of ietf-interfaces.yang'\n",
      "This structure is what data we can get (ro/rw) or set (rw)\n",
      "module: ietf-interfaces\n",
      "   +--rw interfaces\n",
      "   |  +--rw interface* [name]\n",
      "   |     +--rw name                        string\n",
      "   |     +--rw description?                string\n",
      "   |     +--rw type                        identityref\n",
      "   |     +--rw enabled?                    boolean\n",
      "   |     +--rw link-up-down-trap-enable?   enumeration {if-mib}?\n",
      "   +--ro interfaces-state\n",
      "      +--ro interface* [name]\n",
      "         +--ro name               string\n",
      "         +--ro type               identityref\n",
      "         +--ro admin-status       enumeration {if-mib}?\n",
      "         +--ro oper-status        enumeration\n",
      "         +--ro last-change?       yang:date-and-time\n",
      "         +--ro if-index           int32 {if-mib}?\n",
      "         +--ro phys-address?      yang:phys-address\n",
      "         +--ro higher-layer-if*   interface-state-ref\n",
      "         +--ro lower-layer-if*    interface-state-ref\n",
      "         +--ro speed?             yang:gauge64\n",
      "         +--ro statistics\n",
      "            +--ro discontinuity-time    yang:date-and-time\n",
      "            +--ro in-octets?            yang:counter64\n",
      "            +--ro in-unicast-pkts?      yang:counter64\n",
      "            +--ro in-broadcast-pkts?    yang:counter64\n",
      "            +--ro in-multicast-pkts?    yang:counter64\n",
      "            +--ro in-discards?          yang:counter32\n",
      "            +--ro in-errors?            yang:counter32\n",
      "            +--ro in-unknown-protos?    yang:counter32\n",
      "            +--ro out-octets?           yang:counter64\n",
      "            +--ro out-unicast-pkts?     yang:counter64\n",
      "            +--ro out-broadcast-pkts?   yang:counter64\n",
      "            +--ro out-multicast-pkts?   yang:counter64\n",
      "            +--ro out-discards?         yang:counter32\n",
      "            +--ro out-errors?           yang:counter32\n",
      "\n"
     ]
    }
   ],
   "source": [
    "from subprocess import Popen, PIPE, STDOUT\n",
    "SCHEMA_TO_GET = 'ietf-interfaces'\n",
    "print(' We are connecting to the device and downloading the YANG Module')\n",
    "print(\"Now we will do a 'pyang -f tree of %s.yang'\" % SCHEMA_TO_GET)\n",
    "print('This structure is what data we can get (ro/rw) or set (rw)')\n",
    "c = m.get_schema(SCHEMA_TO_GET)\n",
    "p = Popen(['pyang', '-f', 'tree'], stdout=PIPE, stdin=PIPE, stderr=PIPE)\n",
    "stdout_data = p.communicate(input=c.data)[0]\n",
    "print stdout_data"
   ]
  },
  {
   "cell_type": "code",
   "execution_count": 40,
   "metadata": {
    "collapsed": false,
    "deletable": true,
    "editable": true
   },
   "outputs": [
    {
     "name": "stdout",
     "output_type": "stream",
     "text": [
      "GigabitEthernet1, ethernetCsmacd, None\n",
      "GigabitEthernet2, ethernetCsmacd, None\n",
      "GigabitEthernet3, ethernetCsmacd, None\n",
      "Loopback999, softwareLoopback, None\n",
      "Tunnel4, tunnel, None\n"
     ]
    }
   ],
   "source": [
    "from ydk.services import CRUDService\n",
    "from ydk.providers import NetconfServiceProvider\n",
    "from ydk.models.ietf import ietf_interfaces as intf\n",
    "\n",
    "# create NETCONF provider\n",
    "provider = NetconfServiceProvider(address=HOST,\n",
    "                                  port=PORT,\n",
    "                                  username=USER,\n",
    "                                  password=PASS)\n",
    "\n",
    "# create CRUD service\n",
    "crud = CRUDService()\n",
    "\n",
    "# query object\n",
    "q_i = intf.Interfaces()\n",
    "\n",
    "# get stuff\n",
    "intfs = crud.read(provider, q_i)\n",
    "\n",
    "# print interface names and types\n",
    "for i in intfs.interface:\n",
    "    print('%s, %s, %s' % (i.name, i.type._meta_info().yang_name, i.description))"
   ]
  },
  {
   "cell_type": "code",
   "execution_count": 46,
   "metadata": {
    "collapsed": false
   },
   "outputs": [
    {
     "name": "stdout",
     "output_type": "stream",
     "text": [
      "('GigabitEthernet1', 345, 1000, <OperStatusEnum.up: 1>)\n",
      "('GigabitEthernet2', 3315, 1000, <OperStatusEnum.up: 1>)\n",
      "('GigabitEthernet3', 4812, 10000, <OperStatusEnum.up: 1>)\n",
      "('Loopback999', 0, 8000, <OperStatusEnum.up: 1>)\n",
      "('Tunnel4', 0, 0, <OperStatusEnum.down: 2>)\n"
     ]
    }
   ],
   "source": [
    "q_i = intf.InterfacesState()\n",
    "\n",
    "# get stuff\n",
    "intfs = crud.read(provider, q_i)\n",
    "q_i = intf.InterfacesState()\n",
    "\n",
    "# get stuff\n",
    "intfs = crud.read(provider, q_i)\n",
    "int_info=[(i.name, i.statistics.out_pkts, int(i.speed)/1000000, i.oper_status) for i in intfs.interface]\n",
    "for thing in int_info: print(str(thing))"
   ]
  },
  {
   "cell_type": "markdown",
   "metadata": {
    "deletable": true,
    "editable": true
   },
   "source": [
    "# Create Software Loopback"
   ]
  },
  {
   "cell_type": "code",
   "execution_count": 48,
   "metadata": {
    "collapsed": false,
    "deletable": true,
    "editable": true
   },
   "outputs": [
    {
     "ename": "NameError",
     "evalue": "name 'SoftwareloopbackIdentity' is not defined",
     "output_type": "error",
     "traceback": [
      "\u001b[0;31m---------------------------------------------------------------------------\u001b[0m",
      "\u001b[0;31mNameError\u001b[0m                                 Traceback (most recent call last)",
      "\u001b[0;32m<ipython-input-48-e596a0688813>\u001b[0m in \u001b[0;36m<module>\u001b[0;34m()\u001b[0m\n\u001b[1;32m      4\u001b[0m \u001b[0;31m# create a new loopback\u001b[0m\u001b[0;34m\u001b[0m\u001b[0;34m\u001b[0m\u001b[0m\n\u001b[1;32m      5\u001b[0m \u001b[0mnew_loopback\u001b[0m\u001b[0;34m.\u001b[0m\u001b[0mname\u001b[0m \u001b[0;34m=\u001b[0m \u001b[0;34m'Loopback666'\u001b[0m\u001b[0;34m\u001b[0m\u001b[0m\n\u001b[0;32m----> 6\u001b[0;31m \u001b[0mnew_loopback\u001b[0m\u001b[0;34m.\u001b[0m\u001b[0mtype\u001b[0m \u001b[0;34m=\u001b[0m \u001b[0mSoftwareloopbackIdentity\u001b[0m\u001b[0;34m(\u001b[0m\u001b[0;34m)\u001b[0m\u001b[0;34m\u001b[0m\u001b[0m\n\u001b[0m\u001b[1;32m      7\u001b[0m \u001b[0mnew_loopback\u001b[0m\u001b[0;34m.\u001b[0m\u001b[0mdescription\u001b[0m \u001b[0;34m=\u001b[0m \u001b[0;34m'Created by DevNet2445'\u001b[0m\u001b[0;34m\u001b[0m\u001b[0m\n\u001b[1;32m      8\u001b[0m \u001b[0mres\u001b[0m \u001b[0;34m=\u001b[0m \u001b[0mcrud\u001b[0m\u001b[0;34m.\u001b[0m\u001b[0mcreate\u001b[0m\u001b[0;34m(\u001b[0m\u001b[0mprovider\u001b[0m\u001b[0;34m,\u001b[0m \u001b[0mnew_loopback\u001b[0m\u001b[0;34m)\u001b[0m\u001b[0;34m\u001b[0m\u001b[0m\n",
      "\u001b[0;31mNameError\u001b[0m: name 'SoftwareloopbackIdentity' is not defined"
     ]
    }
   ],
   "source": [
    "# new interface\n",
    "new_loopback = intf.Interfaces.Interface()\n",
    "\n",
    "# create a new loopback\n",
    "new_loopback.name = 'Loopback666'\n",
    "new_loopback.type = iftype.SoftwareloopbackIdentity()\n",
    "new_loopback.description = 'Created by DevNet2445'\n",
    "res = crud.create(provider, new_loopback)"
   ]
  },
  {
   "cell_type": "code",
   "execution_count": 21,
   "metadata": {
    "collapsed": false,
    "deletable": true,
    "editable": true
   },
   "outputs": [
    {
     "name": "stdout",
     "output_type": "stream",
     "text": [
      "GigabitEthernet1, ethernetCsmacd, None\n",
      "GigabitEthernet2, ethernetCsmacd, None\n",
      "GigabitEthernet3, ethernetCsmacd, None\n",
      "Tunnel4, tunnel, None\n"
     ]
    }
   ],
   "source": [
    "# get stuff\n",
    "intfs = crud.read(provider, q_i)\n",
    "\n",
    "for i in intfs.interface:\n",
    "    print('%s, %s, %s' % (i.name, i.type._meta_info().yang_name, i.description))"
   ]
  },
  {
   "cell_type": "markdown",
   "metadata": {
    "deletable": true,
    "editable": true
   },
   "source": [
    "# Delete Software Loopback"
   ]
  },
  {
   "cell_type": "code",
   "execution_count": 22,
   "metadata": {
    "collapsed": false,
    "deletable": true,
    "editable": true
   },
   "outputs": [
    {
     "ename": "YPYServiceProviderError",
     "evalue": "Server rejected request.\n\terror-type: application\n\terror-tag: data-missing\n\terror-severity: error\n\terror-path: /nc:rpc/nc:edit-config/nc:config/if:interfaces/if:interface[if:name='Loopback666']\n\tbad-element: interface",
     "output_type": "error",
     "traceback": [
      "\u001b[0;31m---------------------------------------------------------------------------\u001b[0m",
      "\u001b[0;31mYPYServiceProviderError\u001b[0m                   Traceback (most recent call last)",
      "\u001b[0;32m<ipython-input-22-d6635ca109d5>\u001b[0m in \u001b[0;36m<module>\u001b[0;34m()\u001b[0m\n\u001b[1;32m      7\u001b[0m \u001b[0;31m# create a new loopback\u001b[0m\u001b[0;34m\u001b[0m\u001b[0;34m\u001b[0m\u001b[0m\n\u001b[1;32m      8\u001b[0m \u001b[0mto_del\u001b[0m\u001b[0;34m.\u001b[0m\u001b[0mname\u001b[0m \u001b[0;34m=\u001b[0m \u001b[0;34m'Loopback666'\u001b[0m\u001b[0;34m\u001b[0m\u001b[0m\n\u001b[0;32m----> 9\u001b[0;31m \u001b[0mres\u001b[0m \u001b[0;34m=\u001b[0m \u001b[0mcrud\u001b[0m\u001b[0;34m.\u001b[0m\u001b[0mdelete\u001b[0m\u001b[0;34m(\u001b[0m\u001b[0mprovider\u001b[0m\u001b[0;34m,\u001b[0m \u001b[0mto_del\u001b[0m\u001b[0;34m)\u001b[0m\u001b[0;34m\u001b[0m\u001b[0m\n\u001b[0m",
      "\u001b[0;32m/usr/lib/python2.7/site-packages/ydk/services/crud_service.pyc\u001b[0m in \u001b[0;36mdelete\u001b[0;34m(self, provider, entity)\u001b[0m\n\u001b[1;32m     85\u001b[0m             \u001b[0;32mraise\u001b[0m \u001b[0mYPYServiceError\u001b[0m\u001b[0;34m(\u001b[0m\u001b[0merror_msg\u001b[0m\u001b[0;34m=\u001b[0m\u001b[0merr_msg\u001b[0m\u001b[0;34m)\u001b[0m\u001b[0;34m\u001b[0m\u001b[0m\n\u001b[1;32m     86\u001b[0m         \u001b[0mMetaService\u001b[0m\u001b[0;34m.\u001b[0m\u001b[0mnormalize_meta\u001b[0m\u001b[0;34m(\u001b[0m\u001b[0mprovider\u001b[0m\u001b[0;34m.\u001b[0m\u001b[0m_get_capabilities\u001b[0m\u001b[0;34m(\u001b[0m\u001b[0;34m)\u001b[0m\u001b[0;34m,\u001b[0m \u001b[0mentity\u001b[0m\u001b[0;34m)\u001b[0m\u001b[0;34m\u001b[0m\u001b[0m\n\u001b[0;32m---> 87\u001b[0;31m         \u001b[0mself\u001b[0m\u001b[0;34m.\u001b[0m\u001b[0m_execute_crud_operation_on_provider\u001b[0m\u001b[0;34m(\u001b[0m\u001b[0mprovider\u001b[0m\u001b[0;34m,\u001b[0m \u001b[0mentity\u001b[0m\u001b[0;34m,\u001b[0m \u001b[0;34m'DELETE'\u001b[0m\u001b[0;34m,\u001b[0m \u001b[0mFalse\u001b[0m\u001b[0;34m)\u001b[0m\u001b[0;34m\u001b[0m\u001b[0m\n\u001b[0m\u001b[1;32m     88\u001b[0m \u001b[0;34m\u001b[0m\u001b[0m\n\u001b[1;32m     89\u001b[0m     \u001b[0;32mdef\u001b[0m \u001b[0mupdate\u001b[0m\u001b[0;34m(\u001b[0m\u001b[0mself\u001b[0m\u001b[0;34m,\u001b[0m \u001b[0mprovider\u001b[0m\u001b[0;34m,\u001b[0m \u001b[0mentity\u001b[0m\u001b[0;34m)\u001b[0m\u001b[0;34m:\u001b[0m\u001b[0;34m\u001b[0m\u001b[0m\n",
      "\u001b[0;32m/usr/lib/python2.7/site-packages/ydk/services/crud_service.pyc\u001b[0m in \u001b[0;36m_execute_crud_operation_on_provider\u001b[0;34m(self, provider, entity, operation, only_config)\u001b[0m\n\u001b[1;32m    166\u001b[0m                                                         \u001b[0monly_config\u001b[0m\u001b[0;34m\u001b[0m\u001b[0m\n\u001b[1;32m    167\u001b[0m                                                         ),\n\u001b[0;32m--> 168\u001b[0;31m                                         \u001b[0moperation\u001b[0m\u001b[0;34m\u001b[0m\u001b[0m\n\u001b[0m\u001b[1;32m    169\u001b[0m                                         )\n\u001b[1;32m    170\u001b[0m         \u001b[0;32mfinally\u001b[0m\u001b[0;34m:\u001b[0m\u001b[0;34m\u001b[0m\u001b[0m\n",
      "\u001b[0;32m/usr/lib/python2.7/site-packages/ydk/services/service.pyc\u001b[0m in \u001b[0;36mexecute_payload\u001b[0;34m(self, provider, payload, operation)\u001b[0m\n\u001b[1;32m     34\u001b[0m \u001b[0;34m\u001b[0m\u001b[0m\n\u001b[1;32m     35\u001b[0m     \u001b[0;32mdef\u001b[0m \u001b[0mexecute_payload\u001b[0m\u001b[0;34m(\u001b[0m\u001b[0mself\u001b[0m\u001b[0;34m,\u001b[0m \u001b[0mprovider\u001b[0m\u001b[0;34m,\u001b[0m \u001b[0mpayload\u001b[0m\u001b[0;34m,\u001b[0m \u001b[0moperation\u001b[0m\u001b[0;34m)\u001b[0m\u001b[0;34m:\u001b[0m\u001b[0;34m\u001b[0m\u001b[0m\n\u001b[0;32m---> 36\u001b[0;31m         \u001b[0mreply\u001b[0m \u001b[0;34m=\u001b[0m \u001b[0mprovider\u001b[0m\u001b[0;34m.\u001b[0m\u001b[0mexecute\u001b[0m\u001b[0;34m(\u001b[0m\u001b[0mpayload\u001b[0m\u001b[0;34m,\u001b[0m \u001b[0moperation\u001b[0m\u001b[0;34m)\u001b[0m\u001b[0;34m\u001b[0m\u001b[0m\n\u001b[0m\u001b[1;32m     37\u001b[0m         \u001b[0;32mreturn\u001b[0m \u001b[0mreply\u001b[0m\u001b[0;34m\u001b[0m\u001b[0m\n",
      "\u001b[0;32m/usr/lib/python2.7/site-packages/ydk/providers/netconf_provider.pyc\u001b[0m in \u001b[0;36mexecute\u001b[0;34m(self, payload, operation)\u001b[0m\n\u001b[1;32m     92\u001b[0m \u001b[0;34m\u001b[0m\u001b[0m\n\u001b[1;32m     93\u001b[0m     \u001b[0;32mdef\u001b[0m \u001b[0mexecute\u001b[0m\u001b[0;34m(\u001b[0m\u001b[0mself\u001b[0m\u001b[0;34m,\u001b[0m \u001b[0mpayload\u001b[0m\u001b[0;34m,\u001b[0m \u001b[0moperation\u001b[0m\u001b[0;34m)\u001b[0m\u001b[0;34m:\u001b[0m\u001b[0;34m\u001b[0m\u001b[0m\n\u001b[0;32m---> 94\u001b[0;31m         \u001b[0;32mreturn\u001b[0m \u001b[0mself\u001b[0m\u001b[0;34m.\u001b[0m\u001b[0msp_instance\u001b[0m\u001b[0;34m.\u001b[0m\u001b[0mexecute_operation\u001b[0m\u001b[0;34m(\u001b[0m\u001b[0mpayload\u001b[0m\u001b[0;34m,\u001b[0m \u001b[0moperation\u001b[0m\u001b[0;34m)\u001b[0m\u001b[0;34m\u001b[0m\u001b[0m\n\u001b[0m\u001b[1;32m     95\u001b[0m \u001b[0;34m\u001b[0m\u001b[0m\n\u001b[1;32m     96\u001b[0m     \u001b[0;32mdef\u001b[0m \u001b[0m_get_capabilities\u001b[0m\u001b[0;34m(\u001b[0m\u001b[0mself\u001b[0m\u001b[0;34m)\u001b[0m\u001b[0;34m:\u001b[0m\u001b[0;34m\u001b[0m\u001b[0m\n",
      "\u001b[0;32m/usr/lib/python2.7/site-packages/ydk/providers/_provider_plugin.pyc\u001b[0m in \u001b[0;36mexecute_operation\u001b[0;34m(self, payload, operation)\u001b[0m\n\u001b[1;32m    222\u001b[0m             \u001b[0mreply\u001b[0m \u001b[0;34m=\u001b[0m \u001b[0mservice_provider_rpc\u001b[0m\u001b[0;34m.\u001b[0m\u001b[0m_request\u001b[0m\u001b[0;34m(\u001b[0m\u001b[0mpayload\u001b[0m\u001b[0;34m)\u001b[0m\u001b[0;34m\u001b[0m\u001b[0m\n\u001b[1;32m    223\u001b[0m             \u001b[0mself\u001b[0m\u001b[0;34m.\u001b[0m\u001b[0mnetconf_sp_logger\u001b[0m\u001b[0;34m.\u001b[0m\u001b[0mdebug\u001b[0m\u001b[0;34m(\u001b[0m\u001b[0;34m'\\n%s'\u001b[0m\u001b[0;34m,\u001b[0m \u001b[0m_get_pretty\u001b[0m\u001b[0;34m(\u001b[0m\u001b[0mreply\u001b[0m\u001b[0;34m.\u001b[0m\u001b[0mxml\u001b[0m\u001b[0;34m)\u001b[0m\u001b[0;34m)\u001b[0m\u001b[0;34m\u001b[0m\u001b[0m\n\u001b[0;32m--> 224\u001b[0;31m             \u001b[0;32mreturn\u001b[0m \u001b[0mself\u001b[0m\u001b[0;34m.\u001b[0m\u001b[0m_handle_rpc_reply\u001b[0m\u001b[0;34m(\u001b[0m\u001b[0moperation\u001b[0m\u001b[0;34m,\u001b[0m \u001b[0mpayload\u001b[0m\u001b[0;34m,\u001b[0m \u001b[0mreply\u001b[0m\u001b[0;34m.\u001b[0m\u001b[0mxml\u001b[0m\u001b[0;34m)\u001b[0m\u001b[0;34m\u001b[0m\u001b[0m\n\u001b[0m\u001b[1;32m    225\u001b[0m \u001b[0;34m\u001b[0m\u001b[0m\n\u001b[1;32m    226\u001b[0m     \u001b[0;32mdef\u001b[0m \u001b[0m_create_rpc_instance\u001b[0m\u001b[0;34m(\u001b[0m\u001b[0mself\u001b[0m\u001b[0;34m,\u001b[0m \u001b[0mtimeout\u001b[0m\u001b[0;34m)\u001b[0m\u001b[0;34m:\u001b[0m\u001b[0;34m\u001b[0m\u001b[0m\n",
      "\u001b[0;32m/usr/lib/python2.7/site-packages/ydk/providers/_provider_plugin.pyc\u001b[0m in \u001b[0;36m_handle_rpc_reply\u001b[0;34m(self, optype, payload, reply_str)\u001b[0m\n\u001b[1;32m    244\u001b[0m         \u001b[0merr\u001b[0m\u001b[0;34m,\u001b[0m \u001b[0mpathlist\u001b[0m \u001b[0;34m=\u001b[0m \u001b[0mcheck_errors\u001b[0m\u001b[0;34m(\u001b[0m\u001b[0mreply_str\u001b[0m\u001b[0;34m)\u001b[0m\u001b[0;34m\u001b[0m\u001b[0m\n\u001b[1;32m    245\u001b[0m         \u001b[0;32mif\u001b[0m \u001b[0merr\u001b[0m\u001b[0;34m:\u001b[0m\u001b[0;34m\u001b[0m\u001b[0m\n\u001b[0;32m--> 246\u001b[0;31m             \u001b[0mself\u001b[0m\u001b[0;34m.\u001b[0m\u001b[0m_handle_rpc_error\u001b[0m\u001b[0;34m(\u001b[0m\u001b[0mpayload\u001b[0m\u001b[0;34m,\u001b[0m \u001b[0mreply_str\u001b[0m\u001b[0;34m,\u001b[0m \u001b[0mpathlist\u001b[0m\u001b[0;34m)\u001b[0m\u001b[0;34m\u001b[0m\u001b[0m\n\u001b[0m\u001b[1;32m    247\u001b[0m \u001b[0;34m\u001b[0m\u001b[0m\n\u001b[1;32m    248\u001b[0m         \u001b[0mroot\u001b[0m \u001b[0;34m=\u001b[0m \u001b[0metree\u001b[0m\u001b[0;34m.\u001b[0m\u001b[0mfromstring\u001b[0m\u001b[0;34m(\u001b[0m\u001b[0mreply_str\u001b[0m\u001b[0;34m.\u001b[0m\u001b[0mencode\u001b[0m\u001b[0;34m(\u001b[0m\u001b[0;34m'utf-8'\u001b[0m\u001b[0;34m)\u001b[0m\u001b[0;34m)\u001b[0m\u001b[0;34m\u001b[0m\u001b[0m\n",
      "\u001b[0;32m/usr/lib/python2.7/site-packages/ydk/providers/_provider_plugin.pyc\u001b[0m in \u001b[0;36m_handle_rpc_error\u001b[0;34m(self, payload, reply_str, pathlist)\u001b[0m\n\u001b[1;32m    257\u001b[0m     \u001b[0;32mdef\u001b[0m \u001b[0m_handle_rpc_error\u001b[0m\u001b[0;34m(\u001b[0m\u001b[0mself\u001b[0m\u001b[0;34m,\u001b[0m \u001b[0mpayload\u001b[0m\u001b[0;34m,\u001b[0m \u001b[0mreply_str\u001b[0m\u001b[0;34m,\u001b[0m \u001b[0mpathlist\u001b[0m\u001b[0;34m)\u001b[0m\u001b[0;34m:\u001b[0m\u001b[0;34m\u001b[0m\u001b[0m\n\u001b[1;32m    258\u001b[0m         \u001b[0mself\u001b[0m\u001b[0;34m.\u001b[0m\u001b[0mnetconf_sp_logger\u001b[0m\u001b[0;34m.\u001b[0m\u001b[0merror\u001b[0m\u001b[0;34m(\u001b[0m\u001b[0;34m'\\n%s\\n%s'\u001b[0m \u001b[0;34m,\u001b[0m \u001b[0mpayload\u001b[0m\u001b[0;34m,\u001b[0m \u001b[0mreply_str\u001b[0m\u001b[0;34m)\u001b[0m\u001b[0;34m\u001b[0m\u001b[0m\n\u001b[0;32m--> 259\u001b[0;31m         \u001b[0;32mraise\u001b[0m \u001b[0mYPYServiceProviderError\u001b[0m\u001b[0;34m(\u001b[0m\u001b[0merror_code\u001b[0m\u001b[0;34m=\u001b[0m\u001b[0mYPYErrorCode\u001b[0m\u001b[0;34m.\u001b[0m\u001b[0mSERVER_REJ\u001b[0m\u001b[0;34m,\u001b[0m \u001b[0merror_msg\u001b[0m\u001b[0;34m=\u001b[0m\u001b[0mreply_str\u001b[0m\u001b[0;34m)\u001b[0m\u001b[0;34m\u001b[0m\u001b[0m\n\u001b[0m\u001b[1;32m    260\u001b[0m \u001b[0;34m\u001b[0m\u001b[0m\n\u001b[1;32m    261\u001b[0m     \u001b[0;32mdef\u001b[0m \u001b[0m_handle_commit\u001b[0m\u001b[0;34m(\u001b[0m\u001b[0mself\u001b[0m\u001b[0;34m,\u001b[0m \u001b[0mpayload\u001b[0m\u001b[0;34m,\u001b[0m \u001b[0mreply_str\u001b[0m\u001b[0;34m)\u001b[0m\u001b[0;34m:\u001b[0m\u001b[0;34m\u001b[0m\u001b[0m\n",
      "\u001b[0;31mYPYServiceProviderError\u001b[0m: Server rejected request.\n\terror-type: application\n\terror-tag: data-missing\n\terror-severity: error\n\terror-path: /nc:rpc/nc:edit-config/nc:config/if:interfaces/if:interface[if:name='Loopback666']\n\tbad-element: interface"
     ]
    }
   ],
   "source": [
    "# create CRUD service\n",
    "crud = CRUDService()\n",
    "\n",
    "# interface to delete\n",
    "to_del = intf.Interfaces.Interface()\n",
    "\n",
    "# create a new loopback\n",
    "to_del.name = 'Loopback666'\n",
    "res = crud.delete(provider, to_del)"
   ]
  },
  {
   "cell_type": "code",
   "execution_count": 14,
   "metadata": {
    "collapsed": false,
    "deletable": true,
    "editable": true
   },
   "outputs": [
    {
     "name": "stdout",
     "output_type": "stream",
     "text": [
      "GigabitEthernet1, ethernetCsmacd, None\n",
      "GigabitEthernet2, ethernetCsmacd, None\n",
      "GigabitEthernet3, ethernetCsmacd, None\n",
      "Tunnel4, tunnel, None\n"
     ]
    }
   ],
   "source": [
    "# get stuff\n",
    "intfs = crud.read(provider, q_i)\n",
    "\n",
    "for i in intfs.interface:\n",
    "    print('%s, %s, %s' % (i.name, i.type._meta_info().yang_name, i.description))\n",
    "provider.close()"
   ]
  },
  {
   "cell_type": "code",
   "execution_count": null,
   "metadata": {
    "collapsed": true,
    "deletable": true,
    "editable": true
   },
   "outputs": [],
   "source": []
  }
 ],
 "metadata": {
  "anaconda-cloud": {},
  "kernelspec": {
   "display_name": "Python 2",
   "language": "python",
   "name": "python2"
  },
  "language_info": {
   "codemirror_mode": {
    "name": "ipython",
    "version": 2
   },
   "file_extension": ".py",
   "mimetype": "text/x-python",
   "name": "python",
   "nbconvert_exporter": "python",
   "pygments_lexer": "ipython2",
   "version": "2.7.13"
  }
 },
 "nbformat": 4,
 "nbformat_minor": 2
}
