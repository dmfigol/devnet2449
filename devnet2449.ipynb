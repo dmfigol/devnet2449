{
 "cells": [
  {
   "cell_type": "markdown",
   "metadata": {
    "deletable": true,
    "editable": true
   },
   "source": [
    "# DEVNET-2449 Python For the Enterprise Automation Exloration"
   ]
  },
  {
   "cell_type": "markdown",
   "metadata": {
    "deletable": true,
    "editable": true
   },
   "source": [
    "# Network Device Programability\n",
    "\n",
    "## What's it about\n",
    "This class focuses on various aspects of *Network Device Programability*. In other words: How to use a *program or script* to configure and / or operate a network device (a router, a switch, a firewall). This is an alternative with various benefits to do the same thing in the traditional way, namely by using the device's CLI.\n",
    "\n",
    "## Why This Matters\n",
    "The following image illustrates why Network Device Programability matters\n",
    "\n",
    "![](images/whyndpmatters.png)\n",
    "\n",
    "While a lot of money is spent running and maintaining network infrastructure compared to the initial hardware spend, it takes considerable more time when it comes to deployment of new services compared to data center resources like *compute* or *storage*.\n",
    "\n",
    "Programability solutions can help to bring down that time while, simultaneously, help with\n",
    "\n",
    "- repeatability\n",
    "- reliability \n",
    "- consistency\n",
    "\n",
    "when operating network devices.\n",
    "\n",
    "## High Level Overview\n",
    "\n",
    "![](images/agents.png)\n",
    "\n",
    "\n",
    "## Jupyter Notebooks\n",
    "The *Jupyter Notebooks* in this workbench class are interactive learning environments. We are using them to learn about network device programability in combination with virtual Cisco network devices.\n",
    "\n",
    "Notebooks are **interactive**, the code and text in each notebook can be changed on the fly and the result of those changes can be seen immediately within the notebook itself.\n",
    "\n",
    "Notebooks are organized in *cells*, each displayed *rectangle* or *cell* is basically either Markdown text (like this cell) or Python code. Python code can be *executed* by either clicking the  <span class=\"inline\">![](images/forwardicon.png)</span> in the 'Cell' menu in the menu bar or the key combination 'Shift-Enter'.\n",
    "\n",
    "<div class=\"my-notify-warning\">\n",
    "\n",
    "<p>**IMPORTANT for Execution. PLEASE READ**. At its simplest, this is a playbook and execution is top-down. Code cells will look something like `In [#]:` (with '#' being a number). That's where you want to single-click. To execute the code, simply hit Shift+Enter.</p>\n",
    "\n",
    "<p>The code should execute, and move onto the next cell. The number in `In [#]:` will change and if there is some return value (as opposed to an explicit `print()` statement) it will appear in an `Out [#]:` cell. The numbers will change after each cell execution.</p>\n",
    "\n",
    "<p>It's easy to \"execute\" an entire notebook, task-by-task, by continuing to execute Shift+Return. Also, if you ever see `In [*]:` in your code cells (note the asterisk '\\*'), it just means things are executing, and you are probably waiting on data to come back.</p>\n",
    "\n",
    "<p>So depending on what you're doing, some patience might be required.</p>\n",
    "\n",
    "</div>\n",
    "\n",
    "\n",
    "## Environment\n",
    "The workbench environment is running entirely inside of the provided MacBook Pros. We use [Vagrant](https://www.vagrantup.com/) to run two [CSR 1000V virtual routers](http://www.cisco.com/c/en/us/products/routers/cloud-services-router-1000v-series/index.html) running IOS XE 16.3.2 and we use [Docker](https://www.docker.com/) to provide the [Jupyter](http://jupyter.org/) interactive notebooks (like the document you are currently looking at).\n",
    "\n",
    "The Python environment in the notebooks communicate with the routers via a host-only *internal* network on the MacBook Pro. The MacBook has its own IP address on this host-only network: `172.20.20.1`. The container can access the routers on their own IP addresses, `172.20.20.10` and `172.20.20.20` respectively. The following diagram shows a high level overview of the environment:\n",
    "\n",
    "![Topology](images/topology.png)\n",
    "\n",
    "We can access the CLI of the CSR1000v using a terminal (`Terminal.app`) and, while in the Vagrant directory, typing `vagrant ssh rtr1` or `vagrant ssh rtr2`. Because a public key has been installed into the router(s), we get a privileged shell / CLI without being prompted for a password.\n",
    "\n",
    "While on the router, you can check the 'wsma' configuration section and also the remaining configuration which enables NETCONF and RESTCONF. \n",
    "\n",
    "Apart from a few static routes and an OSPF process there is not a lot else configured on the box."
   ]
  },
  {
   "cell_type": "code",
   "execution_count": null,
   "metadata": {
    "collapsed": true,
    "deletable": true,
    "editable": true
   },
   "outputs": [],
   "source": [
    "HOST = '172.20.20.10'\n",
    "PORT = 830\n",
    "USER = 'vagrant'\n",
    "PASS = 'vagrant'"
   ]
  },
  {
   "cell_type": "code",
   "execution_count": null,
   "metadata": {
    "collapsed": false,
    "deletable": true,
    "editable": true
   },
   "outputs": [],
   "source": [
    "import jtextfsm as textfsm\n",
    "from netmiko import ConnectHandler\n",
    "import pprint\n",
    "\n",
    "def get_show_inventory(ip, username, password, enable_secret):\n",
    "    # establish a connection to the device\n",
    "    ssh_connection = ConnectHandler(\n",
    "        device_type='cisco_ios',\n",
    "        ip=ip,\n",
    "        username=username,\n",
    "        password=password,\n",
    "        secret=enable_secret)\n",
    "    # enter enable mode\n",
    "    ssh_connection.enable()\n",
    "    # prepend the command prompt to the result (used to identify the local device)\n",
    "    result = ssh_connection.find_prompt() + \"\\n\"\n",
    "    # execute the show inventory command with extended delay\n",
    "    result += ssh_connection.send_command(\"show inventory\", delay_factor=2)\n",
    "    # close SSH connection\n",
    "    ssh_connection.disconnect()\n",
    "    return result\n"
   ]
  },
  {
   "cell_type": "code",
   "execution_count": null,
   "metadata": {
    "collapsed": false,
    "deletable": true,
    "editable": true
   },
   "outputs": [],
   "source": [
    "    raw_text_data = get_show_inventory(HOST, USER, PASS, PASS)\n",
    "    print ('This is what the text looks like\\n' + raw_text_data)\n",
    "    # Run the text through the FSM. \n",
    "    # The argument 'template' is a file handle and 'raw_text_data' is a \n",
    "    # string with the content from the show_inventory.txt file\n",
    "    template = open(\"/home/docker/cli/show_inventory_multiple.textfsm\")\n",
    "    re_table = textfsm.TextFSM(template)\n",
    "    fsm_results = re_table.ParseText(raw_text_data)\n",
    "    # build keys for inventory sub-items \n",
    "    keys = [s for s in re_table.header]\n",
    "    #build inventory list of dictionaries\n",
    "    inventory = []\n",
    "    for row in fsm_results:\n",
    "      entry = {}\n",
    "      for i, item in enumerate(row):\n",
    "        entry.update({keys[i]:item})\n",
    "      inventory.append(entry)\n",
    "    pp = pprint.PrettyPrinter(indent=2)"
   ]
  },
  {
   "cell_type": "code",
   "execution_count": null,
   "metadata": {
    "collapsed": false,
    "deletable": true,
    "editable": true
   },
   "outputs": [],
   "source": [
    "    print(template.read())"
   ]
  },
  {
   "cell_type": "code",
   "execution_count": null,
   "metadata": {
    "collapsed": false,
    "deletable": true,
    "editable": true
   },
   "outputs": [],
   "source": [
    "    print('Results translated through regular expression template organized as a dictonary')\n",
    "    pp.pprint(inventory) # Print full inventory as dictionary\n",
    "    print([key for key, value in inventory[0].items()])  # print key values as list\n",
    "    for item in inventory:   # print inventory elements a table \n",
    "        print([item[key] for key in item])\n",
    "    "
   ]
  },
  {
   "cell_type": "code",
   "execution_count": null,
   "metadata": {
    "collapsed": false,
    "deletable": true,
    "editable": true
   },
   "outputs": [],
   "source": [
    "    sought_product = 'CSR'\n",
    "    resultlist = [d for d in inventory if d.get('productid', '') == sought_product]\n",
    "    print('\\nFound Devices with specific productid ' + sought_product)\n",
    "    pp.pprint(resultlist) #print list of devices with sought productid\n",
    "    #print ([(item['hostname'], item['productid']) for item in resultlist])  #print found items as a tuple"
   ]
  },
  {
   "cell_type": "code",
   "execution_count": null,
   "metadata": {
    "collapsed": true,
    "deletable": true,
    "editable": true
   },
   "outputs": [],
   "source": [
    "def get_show_ip_route(ip, username, password, enable_secret):\n",
    "    # establish a connection to the device\n",
    "    ssh_connection = ConnectHandler(\n",
    "        device_type='cisco_ios',\n",
    "        ip=ip,\n",
    "        username=username,\n",
    "        password=password,\n",
    "        secret=enable_secret)\n",
    "    # enter enable mode\n",
    "    ssh_connection.enable()\n",
    "    # prepend the command prompt to the result (used to identify the local device)\n",
    "    result = ssh_connection.find_prompt() + \"\\n\"\n",
    "    # execute the show inventory command with extended delay\n",
    "    result += ssh_connection.send_command(\"show ip route\", delay_factor=2)\n",
    "    # close SSH connection\n",
    "    ssh_connection.disconnect()\n",
    "    return result"
   ]
  },
  {
   "cell_type": "code",
   "execution_count": null,
   "metadata": {
    "collapsed": false,
    "deletable": true,
    "editable": true
   },
   "outputs": [],
   "source": [
    "raw_text_data = get_show_ip_route(HOST, USER, PASS, PASS)\n",
    "print ('This is what the text looks like\\n' + raw_text_data)"
   ]
  },
  {
   "cell_type": "code",
   "execution_count": null,
   "metadata": {
    "collapsed": false,
    "deletable": true,
    "editable": true
   },
   "outputs": [],
   "source": [
    "import ncclient.manager\n",
    "import xml.dom.minidom\n",
    "from ncclient.operations import TimeoutExpiredError\n",
    "  \n",
    "route_filter = '''\n",
    "  <routing-state xmlns=\"urn:ietf:params:xml:ns:yang:ietf-routing\">\n",
    "    <routing-instance>\n",
    "      <ribs>\n",
    "        <rib>\n",
    "          <name>ipv4-default</name>\n",
    "          <address-family xmlns:v4ur=\"urn:ietf:params:xml:ns:yang:ietf-ipv4-unicast-routing\">v4ur:ipv4-unicast</address-family>\n",
    "          <default-rib>true</default-rib>\n",
    "          <routes/>\n",
    "        </rib>\n",
    "      </ribs>\n",
    "    </routing-instance>\n",
    "  </routing-state>\n",
    "  '''\n",
    "nckwargs = dict(\n",
    "    host=HOST,\n",
    "    port=PORT,\n",
    "    hostkey_verify=False,\n",
    "    username=USER,\n",
    "    password=PASS,\n",
    "    device_params={'name':\"csr\"}\n",
    ")\n",
    "m = ncclient.manager.connect(**nckwargs)  \n",
    "try:\n",
    "    print ('Here we are printing the RIB as XML\\n')\n",
    "    c = m.get(filter=('subtree', route_filter))\n",
    "    xmlDom = xml.dom.minidom.parseString(str(c))\n",
    "    print (xmlDom.toprettyxml( indent = \" \" ))\n",
    "except TimeoutExpiredError as e:\n",
    "    print(\"Operation timeout!\")\n",
    "except Exception as e:\n",
    "    print(\"ERORR severity={}, tag={}\".format(e.severity, e.tag))"
   ]
  },
  {
   "cell_type": "code",
   "execution_count": null,
   "metadata": {
    "collapsed": false,
    "deletable": true,
    "editable": true
   },
   "outputs": [],
   "source": [
    "ns = 'urn:ietf:params:xml:ns:yang:ietf-routing'\n",
    "nsmap = dict(rt=ns)\n",
    "route_table=[]\n",
    "routes = c.data.findall(\".//{%s}route\" % ns)\n",
    "for i, route in enumerate(routes):\n",
    "    dest = route.xpath('./rt:destination-prefix/text()', namespaces=nsmap)\n",
    "    hop = route.xpath('./rt:next-hop/rt:next-hop-address/text()', namespaces=nsmap)\n",
    "    intfc = route.xpath('./rt:next-hop/rt:outgoing-interface/text()', namespaces=nsmap)\n",
    "    prot = route.xpath('./rt:source-protocol/text()', namespaces=nsmap)\n",
    "    if len(hop) > 0:\n",
    "        entry = {'hop':hop[0]}\n",
    "    if len(intfc) > 0:\n",
    "        entry = {'intfc':intfc[0]}  \n",
    "    entry.update({'dest':dest[0], 'prot':prot[0]}) \n",
    "    route_table.append(entry)\n",
    "print ('\\nOr we can just grab the information that is interesting\\n')\n",
    "pp = pprint.PrettyPrinter(indent=2)\n",
    "pp.pprint(route_table)  "
   ]
  },
  {
   "cell_type": "code",
   "execution_count": null,
   "metadata": {
    "collapsed": false,
    "deletable": true,
    "editable": true
   },
   "outputs": [],
   "source": [
    "cpu_util = '''<filter>\n",
    "<cpu-usage xmlns=\"urn:cisco:params:xml:ns:yang:cisco-process-cpu\">\n",
    "<cpu-utilization>\n",
    "</cpu-utilization>\n",
    "</cpu-usage></filter>'''\n",
    "\n",
    "cpu_process = '''<filter>\n",
    "<cpu-usage xmlns=\"urn:cisco:params:xml:ns:yang:cisco-process-cpu\" xmlns:y=\"http://tail-f.com/ns/rest\" xmlns:pcpu=\"urn:cisco:params:xml:ns:yang:cisco-process-cpu\">\n",
    "<process-cpu-usage>\n",
    "</process>\n",
    "</process-cpu-usage>\n",
    "</filter>'''\n",
    "print ('Using NETCONF, you can present data as XML without any conversion')\n",
    "cpu_util = str( m.get( filter=cpu_util ) )\n",
    "xmlDom = xml.dom.minidom.parseString(cpu_util)\n",
    "print xmlDom.toprettyxml( indent = \" \" )"
   ]
  },
  {
   "cell_type": "code",
   "execution_count": null,
   "metadata": {
    "collapsed": false,
    "deletable": true,
    "editable": true
   },
   "outputs": [],
   "source": [
    "import xmltodict\n",
    "print ('Or you can convert to Dictionary')\n",
    "cpu_dict = xmltodict.parse( cpu_util )['rpc-reply']['data']\n",
    "print [(i,v) for i,v in cpu_dict['cpu-usage']['cpu-utilization'].iteritems()]"
   ]
  },
  {
   "cell_type": "code",
   "execution_count": null,
   "metadata": {
    "collapsed": false,
    "deletable": true,
    "editable": true
   },
   "outputs": [],
   "source": [
    "print ('\\nWith structured data you can filter or sort \\nHere we are grabbing the processes with higher run-time')\n",
    "cpu_dict = xmltodict.parse( str( m.get( filter=cpu_process ) ) )\n",
    "cpu_dict = cpu_dict['rpc-reply']['data']\n",
    "nonzero_process = [t for t in cpu_dict['cpu-usage']['process-cpu-usage']['process'] if int(t['total-run-time']) > 100]\n",
    "for i in nonzero_process: print (i['name'],i['pid'],i['total-run-time'])"
   ]
  },
  {
   "cell_type": "code",
   "execution_count": null,
   "metadata": {
    "collapsed": false,
    "deletable": true,
    "editable": true
   },
   "outputs": [],
   "source": [
    "CONF_FILTER ='''<filter>\n",
    "  <interfaces xmlns=\"urn:ietf:params:xml:ns:yang:ietf-interfaces\">\n",
    "    <interface></interface>\n",
    "  </interfaces>\n",
    "</filter>'''\n",
    "STATE_FILTER ='''<filter>\n",
    "  <interfaces-state xmlns=\"urn:ietf:params:xml:ns:yang:ietf-interfaces\">\n",
    "    <interface></interface>\n",
    "  </interfaces-state>\n",
    "</filter>'''\n",
    "print('\\nHere is the XML data for Interfaces Operational State')\n",
    "interfaces = m.get(STATE_FILTER)\n",
    "pp = pprint.PrettyPrinter(indent=2)\n",
    "print(xml.dom.minidom.parseString(interfaces.xml).toprettyxml(indent=\" \"))"
   ]
  },
  {
   "cell_type": "code",
   "execution_count": null,
   "metadata": {
    "collapsed": false,
    "deletable": true,
    "editable": true
   },
   "outputs": [],
   "source": [
    "m = ncclient.manager.connect(**nckwargs)\n",
    "print('\\nHere is the XML data for Interfaces Configuration')\n",
    "interfaces = m.get_config('running',CONF_FILTER)\n",
    "print(xml.dom.minidom.parseString(interfaces.xml).toprettyxml(indent=\" \"))"
   ]
  },
  {
   "cell_type": "code",
   "execution_count": null,
   "metadata": {
    "collapsed": false,
    "deletable": true,
    "editable": true
   },
   "outputs": [],
   "source": [
    "from subprocess import Popen, PIPE, STDOUT\n",
    "SCHEMA_TO_GET = 'ietf-interfaces'\n",
    "print(' We are connecting to the device and downloading the YANG Module')\n",
    "print(\"Now we will do a 'pyang -f tree of %s.yang'\" % SCHEMA_TO_GET)\n",
    "print('This structure is what data we can get (ro/rw) or set (rw)')\n",
    "c = m.get_schema(SCHEMA_TO_GET)\n",
    "p = Popen(['pyang', '-f', 'tree'], stdout=PIPE, stdin=PIPE, stderr=PIPE)\n",
    "stdout_data = p.communicate(input=c.data)[0]\n",
    "print stdout_data"
   ]
  },
  {
   "cell_type": "code",
   "execution_count": null,
   "metadata": {
    "collapsed": false,
    "deletable": true,
    "editable": true
   },
   "outputs": [],
   "source": [
    "from ydk.services import CRUDService\n",
    "from ydk.providers import NetconfServiceProvider\n",
    "from ydk.models.ietf import ietf_interfaces as intf\n",
    "from ydk.models.ietf import iana_if_type as iftype\n",
    "\n",
    "# create NETCONF provider\n",
    "provider = NetconfServiceProvider(address=HOST,\n",
    "                                  port=PORT,\n",
    "                                  username=USER,\n",
    "                                  password=PASS)\n",
    "\n",
    "# create CRUD service\n",
    "crud = CRUDService()\n",
    "\n",
    "# query object\n",
    "q_i = intf.Interfaces()\n",
    "\n",
    "# get stuff\n",
    "intfs = crud.read(provider, q_i)\n",
    "\n",
    "# print interface names and types\n",
    "for i in intfs.interface:\n",
    "    print('%s, %s, %s' % (i.name, i.type._meta_info().yang_name, i.description))"
   ]
  },
  {
   "cell_type": "code",
   "execution_count": null,
   "metadata": {
    "collapsed": false,
    "deletable": true,
    "editable": true
   },
   "outputs": [],
   "source": [
    "q_i = intf.InterfacesState()\n",
    "\n",
    "# get stuff\n",
    "intfs = crud.read(provider, q_i)\n",
    "q_i = intf.InterfacesState()\n",
    "\n",
    "# get stuff\n",
    "intfs = crud.read(provider, q_i)\n",
    "int_info=[(i.name, i.statistics.out_pkts, int(i.speed)/1000000, i.oper_status) for i in intfs.interface]\n",
    "for thing in int_info: print(str(thing))"
   ]
  },
  {
   "cell_type": "markdown",
   "metadata": {
    "deletable": true,
    "editable": true
   },
   "source": [
    "# Create Software Loopback"
   ]
  },
  {
   "cell_type": "code",
   "execution_count": null,
   "metadata": {
    "collapsed": false,
    "deletable": true,
    "editable": true
   },
   "outputs": [],
   "source": [
    "# new interface\n",
    "new_loopback = intf.Interfaces.Interface()\n",
    "\n",
    "# create a new loopback\n",
    "new_loopback.name = 'Loopback666'\n",
    "new_loopback.type = iftype.SoftwareloopbackIdentity()\n",
    "new_loopback.description = 'Created by DevNet2445'\n",
    "res = crud.create(provider, new_loopback)"
   ]
  },
  {
   "cell_type": "code",
   "execution_count": null,
   "metadata": {
    "collapsed": false,
    "deletable": true,
    "editable": true
   },
   "outputs": [],
   "source": [
    "# get stuff\n",
    "q_i = intf.Interfaces()\n",
    "intfs = crud.read(provider, q_i)\n",
    "\n",
    "for i in intfs.interface:\n",
    "    print('%s, %s, %s' % (i.name, i.type._meta_info().yang_name, i.description))"
   ]
  },
  {
   "cell_type": "markdown",
   "metadata": {
    "deletable": true,
    "editable": true
   },
   "source": [
    "# Delete Software Loopback"
   ]
  },
  {
   "cell_type": "code",
   "execution_count": null,
   "metadata": {
    "collapsed": false,
    "deletable": true,
    "editable": true
   },
   "outputs": [],
   "source": [
    "# create CRUD service\n",
    "crud = CRUDService()\n",
    "\n",
    "# interface to delete\n",
    "to_del = intf.Interfaces.Interface()\n",
    "\n",
    "# create a new loopback\n",
    "to_del.name = 'Loopback666'\n",
    "res = crud.delete(provider, to_del)"
   ]
  },
  {
   "cell_type": "code",
   "execution_count": null,
   "metadata": {
    "collapsed": false,
    "deletable": true,
    "editable": true
   },
   "outputs": [],
   "source": [
    "# get stuff\n",
    "intfs = crud.read(provider, q_i)\n",
    "\n",
    "for i in intfs.interface:\n",
    "    print('%s, %s, %s' % (i.name, i.type._meta_info().yang_name, i.description))\n",
    "provider.close()"
   ]
  },
  {
   "cell_type": "code",
   "execution_count": null,
   "metadata": {
    "collapsed": true,
    "deletable": true,
    "editable": true
   },
   "outputs": [],
   "source": []
  }
 ],
 "metadata": {
  "anaconda-cloud": {},
  "kernelspec": {
   "display_name": "Python 2",
   "language": "python",
   "name": "python2"
  },
  "language_info": {
   "codemirror_mode": {
    "name": "ipython",
    "version": 2
   },
   "file_extension": ".py",
   "mimetype": "text/x-python",
   "name": "python",
   "nbconvert_exporter": "python",
   "pygments_lexer": "ipython2",
   "version": "2.7.13"
  }
 },
 "nbformat": 4,
 "nbformat_minor": 2
}
